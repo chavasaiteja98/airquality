{
  "nbformat": 4,
  "nbformat_minor": 0,
  "metadata": {
    "colab": {
      "name": "Copy of Untitled0.ipynb",
      "provenance": [],
      "collapsed_sections": []
    },
    "kernelspec": {
      "name": "python3",
      "display_name": "Python 3"
    }
  },
  "cells": [
    {
      "cell_type": "code",
      "metadata": {
        "id": "IdpmnSFY4pwX"
      },
      "source": [
        "import numpy as np\n",
        "import pandas as pd\n",
        "import matplotlib.pyplot as plt\n",
        "import seaborn as sns\n",
        "# %matplotlib inline\n",
        "import sys"
      ],
      "execution_count": null,
      "outputs": []
    },
    {
      "cell_type": "code",
      "metadata": {
        "colab": {
          "base_uri": "https://localhost:8080/",
          "height": 363
        },
        "id": "ZDv2H1M24vrC",
        "outputId": "e93224d3-11ff-4546-9d19-09834adbd436"
      },
      "source": [
        "air= pd.read_csv('sample_data/Airqualityitaly.csv')\n",
        "air.head(10)"
      ],
      "execution_count": null,
      "outputs": [
        {
          "output_type": "execute_result",
          "data": {
            "text/html": [
              "<div>\n",
              "<style scoped>\n",
              "    .dataframe tbody tr th:only-of-type {\n",
              "        vertical-align: middle;\n",
              "    }\n",
              "\n",
              "    .dataframe tbody tr th {\n",
              "        vertical-align: top;\n",
              "    }\n",
              "\n",
              "    .dataframe thead th {\n",
              "        text-align: right;\n",
              "    }\n",
              "</style>\n",
              "<table border=\"1\" class=\"dataframe\">\n",
              "  <thead>\n",
              "    <tr style=\"text-align: right;\">\n",
              "      <th></th>\n",
              "      <th>Date</th>\n",
              "      <th>Time</th>\n",
              "      <th>CO(GT)</th>\n",
              "      <th>PT08.S1(CO)</th>\n",
              "      <th>NMHC(GT)</th>\n",
              "      <th>C6H6(GT)</th>\n",
              "      <th>PT08.S2(NMHC)</th>\n",
              "      <th>NOx(GT)</th>\n",
              "      <th>PT08.S3(NOx)</th>\n",
              "      <th>NO2(GT)</th>\n",
              "      <th>PT08.S4(NO2)</th>\n",
              "      <th>PT08.S5(O3)</th>\n",
              "      <th>T</th>\n",
              "      <th>RH</th>\n",
              "      <th>AH</th>\n",
              "    </tr>\n",
              "  </thead>\n",
              "  <tbody>\n",
              "    <tr>\n",
              "      <th>0</th>\n",
              "      <td>10/3/2004</td>\n",
              "      <td>18.00.00</td>\n",
              "      <td>2.6</td>\n",
              "      <td>1360</td>\n",
              "      <td>150.0</td>\n",
              "      <td>11.9</td>\n",
              "      <td>1046</td>\n",
              "      <td>166</td>\n",
              "      <td>1056</td>\n",
              "      <td>113</td>\n",
              "      <td>1692</td>\n",
              "      <td>1268.0</td>\n",
              "      <td>13.6</td>\n",
              "      <td>48.9</td>\n",
              "      <td>0.7578</td>\n",
              "    </tr>\n",
              "    <tr>\n",
              "      <th>1</th>\n",
              "      <td>10/3/2004</td>\n",
              "      <td>19.00.00</td>\n",
              "      <td>2.0</td>\n",
              "      <td>1292</td>\n",
              "      <td>112.0</td>\n",
              "      <td>9.4</td>\n",
              "      <td>955</td>\n",
              "      <td>103</td>\n",
              "      <td>1174</td>\n",
              "      <td>92</td>\n",
              "      <td>1559</td>\n",
              "      <td>972.0</td>\n",
              "      <td>13.3</td>\n",
              "      <td>47.7</td>\n",
              "      <td>0.7255</td>\n",
              "    </tr>\n",
              "    <tr>\n",
              "      <th>2</th>\n",
              "      <td>10/3/2004</td>\n",
              "      <td>20.00.00</td>\n",
              "      <td>2.2</td>\n",
              "      <td>1402</td>\n",
              "      <td>88.0</td>\n",
              "      <td>9.0</td>\n",
              "      <td>939</td>\n",
              "      <td>131</td>\n",
              "      <td>1140</td>\n",
              "      <td>114</td>\n",
              "      <td>1555</td>\n",
              "      <td>1074.0</td>\n",
              "      <td>11.9</td>\n",
              "      <td>54.0</td>\n",
              "      <td>0.7502</td>\n",
              "    </tr>\n",
              "    <tr>\n",
              "      <th>3</th>\n",
              "      <td>10/3/2004</td>\n",
              "      <td>21.00.00</td>\n",
              "      <td>2.2</td>\n",
              "      <td>1376</td>\n",
              "      <td>80.0</td>\n",
              "      <td>9.2</td>\n",
              "      <td>948</td>\n",
              "      <td>172</td>\n",
              "      <td>1092</td>\n",
              "      <td>122</td>\n",
              "      <td>1584</td>\n",
              "      <td>1203.0</td>\n",
              "      <td>11.0</td>\n",
              "      <td>60.0</td>\n",
              "      <td>0.7867</td>\n",
              "    </tr>\n",
              "    <tr>\n",
              "      <th>4</th>\n",
              "      <td>10/3/2004</td>\n",
              "      <td>22.00.00</td>\n",
              "      <td>1.6</td>\n",
              "      <td>1272</td>\n",
              "      <td>51.0</td>\n",
              "      <td>6.5</td>\n",
              "      <td>836</td>\n",
              "      <td>131</td>\n",
              "      <td>1205</td>\n",
              "      <td>116</td>\n",
              "      <td>1490</td>\n",
              "      <td>1110.0</td>\n",
              "      <td>11.2</td>\n",
              "      <td>59.6</td>\n",
              "      <td>0.7888</td>\n",
              "    </tr>\n",
              "    <tr>\n",
              "      <th>5</th>\n",
              "      <td>10/3/2004</td>\n",
              "      <td>23.00.00</td>\n",
              "      <td>1.2</td>\n",
              "      <td>1197</td>\n",
              "      <td>38.0</td>\n",
              "      <td>4.7</td>\n",
              "      <td>750</td>\n",
              "      <td>89</td>\n",
              "      <td>1337</td>\n",
              "      <td>96</td>\n",
              "      <td>1393</td>\n",
              "      <td>949.0</td>\n",
              "      <td>11.2</td>\n",
              "      <td>59.2</td>\n",
              "      <td>0.7848</td>\n",
              "    </tr>\n",
              "    <tr>\n",
              "      <th>6</th>\n",
              "      <td>11/3/2004</td>\n",
              "      <td>00.00.00</td>\n",
              "      <td>1.2</td>\n",
              "      <td>1185</td>\n",
              "      <td>31.0</td>\n",
              "      <td>3.6</td>\n",
              "      <td>690</td>\n",
              "      <td>62</td>\n",
              "      <td>1462</td>\n",
              "      <td>77</td>\n",
              "      <td>1333</td>\n",
              "      <td>733.0</td>\n",
              "      <td>11.3</td>\n",
              "      <td>56.8</td>\n",
              "      <td>0.7603</td>\n",
              "    </tr>\n",
              "    <tr>\n",
              "      <th>7</th>\n",
              "      <td>11/3/2004</td>\n",
              "      <td>01.00.00</td>\n",
              "      <td>1.0</td>\n",
              "      <td>1136</td>\n",
              "      <td>31.0</td>\n",
              "      <td>3.3</td>\n",
              "      <td>672</td>\n",
              "      <td>62</td>\n",
              "      <td>1453</td>\n",
              "      <td>76</td>\n",
              "      <td>1333</td>\n",
              "      <td>730.0</td>\n",
              "      <td>10.7</td>\n",
              "      <td>60.0</td>\n",
              "      <td>0.7702</td>\n",
              "    </tr>\n",
              "    <tr>\n",
              "      <th>8</th>\n",
              "      <td>11/3/2004</td>\n",
              "      <td>02.00.00</td>\n",
              "      <td>0.9</td>\n",
              "      <td>1094</td>\n",
              "      <td>24.0</td>\n",
              "      <td>2.3</td>\n",
              "      <td>609</td>\n",
              "      <td>45</td>\n",
              "      <td>1579</td>\n",
              "      <td>60</td>\n",
              "      <td>1276</td>\n",
              "      <td>620.0</td>\n",
              "      <td>10.7</td>\n",
              "      <td>59.7</td>\n",
              "      <td>0.7648</td>\n",
              "    </tr>\n",
              "    <tr>\n",
              "      <th>9</th>\n",
              "      <td>11/3/2004</td>\n",
              "      <td>03.00.00</td>\n",
              "      <td>0.6</td>\n",
              "      <td>1010</td>\n",
              "      <td>19.0</td>\n",
              "      <td>1.7</td>\n",
              "      <td>561</td>\n",
              "      <td>-200</td>\n",
              "      <td>1705</td>\n",
              "      <td>-200</td>\n",
              "      <td>1235</td>\n",
              "      <td>501.0</td>\n",
              "      <td>10.3</td>\n",
              "      <td>60.2</td>\n",
              "      <td>0.7517</td>\n",
              "    </tr>\n",
              "  </tbody>\n",
              "</table>\n",
              "</div>"
            ],
            "text/plain": [
              "        Date      Time  CO(GT)  PT08.S1(CO)  ...  PT08.S5(O3)     T    RH      AH\n",
              "0  10/3/2004  18.00.00     2.6         1360  ...       1268.0  13.6  48.9  0.7578\n",
              "1  10/3/2004  19.00.00     2.0         1292  ...        972.0  13.3  47.7  0.7255\n",
              "2  10/3/2004  20.00.00     2.2         1402  ...       1074.0  11.9  54.0  0.7502\n",
              "3  10/3/2004  21.00.00     2.2         1376  ...       1203.0  11.0  60.0  0.7867\n",
              "4  10/3/2004  22.00.00     1.6         1272  ...       1110.0  11.2  59.6  0.7888\n",
              "5  10/3/2004  23.00.00     1.2         1197  ...        949.0  11.2  59.2  0.7848\n",
              "6  11/3/2004  00.00.00     1.2         1185  ...        733.0  11.3  56.8  0.7603\n",
              "7  11/3/2004  01.00.00     1.0         1136  ...        730.0  10.7  60.0  0.7702\n",
              "8  11/3/2004  02.00.00     0.9         1094  ...        620.0  10.7  59.7  0.7648\n",
              "9  11/3/2004  03.00.00     0.6         1010  ...        501.0  10.3  60.2  0.7517\n",
              "\n",
              "[10 rows x 15 columns]"
            ]
          },
          "metadata": {
            "tags": []
          },
          "execution_count": 98
        }
      ]
    },
    {
      "cell_type": "code",
      "metadata": {
        "colab": {
          "base_uri": "https://localhost:8080/",
          "height": 351
        },
        "id": "-4GqSitG4z3u",
        "outputId": "82ed8d57-5074-4826-c42e-ef735a7e59b7"
      },
      "source": [
        "sns.heatmap(air.isnull(),yticklabels=False,cbar=False,cmap='viridis')"
      ],
      "execution_count": null,
      "outputs": [
        {
          "output_type": "execute_result",
          "data": {
            "text/plain": [
              "<matplotlib.axes._subplots.AxesSubplot at 0x7fe1c47c58d0>"
            ]
          },
          "metadata": {
            "tags": []
          },
          "execution_count": 99
        },
        {
          "output_type": "display_data",
          "data": {
            "image/png": "[encoded data removed]",
            "text/plain": [
              "<Figure size 432x288 with 1 Axes>"
            ]
          },
          "metadata": {
            "tags": [],
            "needs_background": "light"
          }
        }
      ]
    },
    {
      "cell_type": "code",
      "metadata": {
        "colab": {
          "base_uri": "https://localhost:8080/",
          "height": 355
        },
        "id": "ElabKEIO43ZJ",
        "outputId": "f6709769-97fc-41b0-f4f9-fd110d411b5c"
      },
      "source": [
        "sns.heatmap(air.corr(),annot=True,cmap='viridis')\n",
        "plt.title('Heatmap of co-relation between variables',fontsize=20)\n",
        "plt.show()"
      ],
      "execution_count": null,
      "outputs": [
        {
          "output_type": "display_data",
          "data": {
            "image/png": "[encoded data removed]",
            "text/plain": [
              "<Figure size 432x288 with 2 Axes>"
            ]
          },
          "metadata": {
            "tags": [],
            "needs_background": "light"
          }
        }
      ]
    },
    {
      "cell_type": "code",
      "metadata": {
        "colab": {
          "base_uri": "https://localhost:8080/",
          "height": 284
        },
        "id": "FSkAmciv47-8",
        "outputId": "327ae757-8df6-4373-c1db-a3367ec2cc09"
      },
      "source": [
        "air.describe()"
      ],
      "execution_count": null,
      "outputs": [
        {
          "output_type": "execute_result",
          "data": {
            "text/html": [
              "<div>\n",
              "<style scoped>\n",
              "    .dataframe tbody tr th:only-of-type {\n",
              "        vertical-align: middle;\n",
              "    }\n",
              "\n",
              "    .dataframe tbody tr th {\n",
              "        vertical-align: top;\n",
              "    }\n",
              "\n",
              "    .dataframe thead th {\n",
              "        text-align: right;\n",
              "    }\n",
              "</style>\n",
              "<table border=\"1\" class=\"dataframe\">\n",
              "  <thead>\n",
              "    <tr style=\"text-align: right;\">\n",
              "      <th></th>\n",
              "      <th>CO(GT)</th>\n",
              "      <th>PT08.S1(CO)</th>\n",
              "      <th>NMHC(GT)</th>\n",
              "      <th>C6H6(GT)</th>\n",
              "      <th>PT08.S2(NMHC)</th>\n",
              "      <th>NOx(GT)</th>\n",
              "      <th>PT08.S3(NOx)</th>\n",
              "      <th>NO2(GT)</th>\n",
              "      <th>PT08.S4(NO2)</th>\n",
              "      <th>PT08.S5(O3)</th>\n",
              "      <th>T</th>\n",
              "      <th>RH</th>\n",
              "      <th>AH</th>\n",
              "    </tr>\n",
              "  </thead>\n",
              "  <tbody>\n",
              "    <tr>\n",
              "      <th>count</th>\n",
              "      <td>9357.000000</td>\n",
              "      <td>9357.000000</td>\n",
              "      <td>9357.000000</td>\n",
              "      <td>9357.000000</td>\n",
              "      <td>9357.000000</td>\n",
              "      <td>9357.000000</td>\n",
              "      <td>9357.000000</td>\n",
              "      <td>9357.000000</td>\n",
              "      <td>9357.000000</td>\n",
              "      <td>9357.000000</td>\n",
              "      <td>9357.000000</td>\n",
              "      <td>9357.000000</td>\n",
              "      <td>9356.000000</td>\n",
              "    </tr>\n",
              "    <tr>\n",
              "      <th>mean</th>\n",
              "      <td>-34.033536</td>\n",
              "      <td>1048.816074</td>\n",
              "      <td>-159.066485</td>\n",
              "      <td>2.004628</td>\n",
              "      <td>894.432724</td>\n",
              "      <td>168.696484</td>\n",
              "      <td>794.910655</td>\n",
              "      <td>58.360372</td>\n",
              "      <td>1391.462755</td>\n",
              "      <td>974.900780</td>\n",
              "      <td>9.782430</td>\n",
              "      <td>39.479397</td>\n",
              "      <td>-6.838464</td>\n",
              "    </tr>\n",
              "    <tr>\n",
              "      <th>std</th>\n",
              "      <td>79.096080</td>\n",
              "      <td>330.062067</td>\n",
              "      <td>139.800836</td>\n",
              "      <td>43.568942</td>\n",
              "      <td>342.491834</td>\n",
              "      <td>257.434899</td>\n",
              "      <td>322.147362</td>\n",
              "      <td>128.153143</td>\n",
              "      <td>467.198972</td>\n",
              "      <td>456.996348</td>\n",
              "      <td>43.206308</td>\n",
              "      <td>51.217345</td>\n",
              "      <td>38.978664</td>\n",
              "    </tr>\n",
              "    <tr>\n",
              "      <th>min</th>\n",
              "      <td>-200.000000</td>\n",
              "      <td>-200.000000</td>\n",
              "      <td>-200.000000</td>\n",
              "      <td>-200.000000</td>\n",
              "      <td>-200.000000</td>\n",
              "      <td>-200.000000</td>\n",
              "      <td>-200.000000</td>\n",
              "      <td>-200.000000</td>\n",
              "      <td>-200.000000</td>\n",
              "      <td>-200.000000</td>\n",
              "      <td>-200.000000</td>\n",
              "      <td>-200.000000</td>\n",
              "      <td>-200.000000</td>\n",
              "    </tr>\n",
              "    <tr>\n",
              "      <th>25%</th>\n",
              "      <td>0.600000</td>\n",
              "      <td>921.000000</td>\n",
              "      <td>-200.000000</td>\n",
              "      <td>4.000000</td>\n",
              "      <td>711.000000</td>\n",
              "      <td>50.000000</td>\n",
              "      <td>637.000000</td>\n",
              "      <td>53.000000</td>\n",
              "      <td>1185.000000</td>\n",
              "      <td>700.000000</td>\n",
              "      <td>10.900000</td>\n",
              "      <td>34.100000</td>\n",
              "      <td>0.692250</td>\n",
              "    </tr>\n",
              "    <tr>\n",
              "      <th>50%</th>\n",
              "      <td>1.500000</td>\n",
              "      <td>1053.000000</td>\n",
              "      <td>-200.000000</td>\n",
              "      <td>7.900000</td>\n",
              "      <td>895.000000</td>\n",
              "      <td>141.000000</td>\n",
              "      <td>794.000000</td>\n",
              "      <td>96.000000</td>\n",
              "      <td>1446.000000</td>\n",
              "      <td>942.000000</td>\n",
              "      <td>17.200000</td>\n",
              "      <td>48.500000</td>\n",
              "      <td>0.976800</td>\n",
              "    </tr>\n",
              "    <tr>\n",
              "      <th>75%</th>\n",
              "      <td>2.600000</td>\n",
              "      <td>1221.000000</td>\n",
              "      <td>-200.000000</td>\n",
              "      <td>13.600000</td>\n",
              "      <td>1105.000000</td>\n",
              "      <td>284.000000</td>\n",
              "      <td>960.000000</td>\n",
              "      <td>133.000000</td>\n",
              "      <td>1662.000000</td>\n",
              "      <td>1255.000000</td>\n",
              "      <td>24.100000</td>\n",
              "      <td>61.900000</td>\n",
              "      <td>1.296300</td>\n",
              "    </tr>\n",
              "    <tr>\n",
              "      <th>max</th>\n",
              "      <td>1428.000000</td>\n",
              "      <td>2040.000000</td>\n",
              "      <td>1189.000000</td>\n",
              "      <td>1321.000000</td>\n",
              "      <td>2214.000000</td>\n",
              "      <td>1479.000000</td>\n",
              "      <td>2683.000000</td>\n",
              "      <td>1779.000000</td>\n",
              "      <td>2775.000000</td>\n",
              "      <td>2523.000000</td>\n",
              "      <td>57.200000</td>\n",
              "      <td>88.700000</td>\n",
              "      <td>2.231000</td>\n",
              "    </tr>\n",
              "  </tbody>\n",
              "</table>\n",
              "</div>"
            ],
            "text/plain": [
              "            CO(GT)  PT08.S1(CO)  ...           RH           AH\n",
              "count  9357.000000  9357.000000  ...  9357.000000  9356.000000\n",
              "mean    -34.033536  1048.816074  ...    39.479397    -6.838464\n",
              "std      79.096080   330.062067  ...    51.217345    38.978664\n",
              "min    -200.000000  -200.000000  ...  -200.000000  -200.000000\n",
              "25%       0.600000   921.000000  ...    34.100000     0.692250\n",
              "50%       1.500000  1053.000000  ...    48.500000     0.976800\n",
              "75%       2.600000  1221.000000  ...    61.900000     1.296300\n",
              "max    1428.000000  2040.000000  ...    88.700000     2.231000\n",
              "\n",
              "[8 rows x 13 columns]"
            ]
          },
          "metadata": {
            "tags": []
          },
          "execution_count": 101
        }
      ]
    },
    {
      "cell_type": "code",
      "metadata": {
        "colab": {
          "base_uri": "https://localhost:8080/"
        },
        "id": "76NLcgiZ4_Dx",
        "outputId": "78e93e26-027d-46aa-96bf-11a6c4d5ce08"
      },
      "source": [
        "air.info()"
      ],
      "execution_count": null,
      "outputs": [
        {
          "output_type": "stream",
          "text": [
            "<class 'pandas.core.frame.DataFrame'>\n",
            "RangeIndex: 9357 entries, 0 to 9356\n",
            "Data columns (total 15 columns):\n",
            " #   Column         Non-Null Count  Dtype  \n",
            "---  ------         --------------  -----  \n",
            " 0   Date           9357 non-null   object \n",
            " 1   Time           9357 non-null   object \n",
            " 2   CO(GT)         9357 non-null   float64\n",
            " 3   PT08.S1(CO)    9357 non-null   int64  \n",
            " 4   NMHC(GT)       9357 non-null   float64\n",
            " 5   C6H6(GT)       9357 non-null   float64\n",
            " 6   PT08.S2(NMHC)  9357 non-null   int64  \n",
            " 7   NOx(GT)        9357 non-null   int64  \n",
            " 8   PT08.S3(NOx)   9357 non-null   int64  \n",
            " 9   NO2(GT)        9357 non-null   int64  \n",
            " 10  PT08.S4(NO2)   9357 non-null   int64  \n",
            " 11  PT08.S5(O3)    9357 non-null   float64\n",
            " 12  T              9357 non-null   float64\n",
            " 13  RH             9357 non-null   float64\n",
            " 14  AH             9356 non-null   float64\n",
            "dtypes: float64(7), int64(6), object(2)\n",
            "memory usage: 1.1+ MB\n"
          ],
          "name": "stdout"
        }
      ]
    },
    {
      "cell_type": "code",
      "metadata": {
        "colab": {
          "base_uri": "https://localhost:8080/",
          "height": 402
        },
        "id": "_FQS9QdR5Bvz",
        "outputId": "ff1a481b-fd75-4df3-c093-1e69e4748eb5"
      },
      "source": [
        "air=air.dropna()\n",
        "air"
      ],
      "execution_count": null,
      "outputs": [
        {
          "output_type": "execute_result",
          "data": {
            "text/html": [
              "<div>\n",
              "<style scoped>\n",
              "    .dataframe tbody tr th:only-of-type {\n",
              "        vertical-align: middle;\n",
              "    }\n",
              "\n",
              "    .dataframe tbody tr th {\n",
              "        vertical-align: top;\n",
              "    }\n",
              "\n",
              "    .dataframe thead th {\n",
              "        text-align: right;\n",
              "    }\n",
              "</style>\n",
              "<table border=\"1\" class=\"dataframe\">\n",
              "  <thead>\n",
              "    <tr style=\"text-align: right;\">\n",
              "      <th></th>\n",
              "      <th>Date</th>\n",
              "      <th>Time</th>\n",
              "      <th>CO(GT)</th>\n",
              "      <th>PT08.S1(CO)</th>\n",
              "      <th>NMHC(GT)</th>\n",
              "      <th>C6H6(GT)</th>\n",
              "      <th>PT08.S2(NMHC)</th>\n",
              "      <th>NOx(GT)</th>\n",
              "      <th>PT08.S3(NOx)</th>\n",
              "      <th>NO2(GT)</th>\n",
              "      <th>PT08.S4(NO2)</th>\n",
              "      <th>PT08.S5(O3)</th>\n",
              "      <th>T</th>\n",
              "      <th>RH</th>\n",
              "      <th>AH</th>\n",
              "    </tr>\n",
              "  </thead>\n",
              "  <tbody>\n",
              "    <tr>\n",
              "      <th>0</th>\n",
              "      <td>10/3/2004</td>\n",
              "      <td>18.00.00</td>\n",
              "      <td>2.6</td>\n",
              "      <td>1360</td>\n",
              "      <td>150.0</td>\n",
              "      <td>11.9</td>\n",
              "      <td>1046</td>\n",
              "      <td>166</td>\n",
              "      <td>1056</td>\n",
              "      <td>113</td>\n",
              "      <td>1692</td>\n",
              "      <td>1268.0</td>\n",
              "      <td>13.6</td>\n",
              "      <td>48.9</td>\n",
              "      <td>0.7578</td>\n",
              "    </tr>\n",
              "    <tr>\n",
              "      <th>1</th>\n",
              "      <td>10/3/2004</td>\n",
              "      <td>19.00.00</td>\n",
              "      <td>2.0</td>\n",
              "      <td>1292</td>\n",
              "      <td>112.0</td>\n",
              "      <td>9.4</td>\n",
              "      <td>955</td>\n",
              "      <td>103</td>\n",
              "      <td>1174</td>\n",
              "      <td>92</td>\n",
              "      <td>1559</td>\n",
              "      <td>972.0</td>\n",
              "      <td>13.3</td>\n",
              "      <td>47.7</td>\n",
              "      <td>0.7255</td>\n",
              "    </tr>\n",
              "    <tr>\n",
              "      <th>2</th>\n",
              "      <td>10/3/2004</td>\n",
              "      <td>20.00.00</td>\n",
              "      <td>2.2</td>\n",
              "      <td>1402</td>\n",
              "      <td>88.0</td>\n",
              "      <td>9.0</td>\n",
              "      <td>939</td>\n",
              "      <td>131</td>\n",
              "      <td>1140</td>\n",
              "      <td>114</td>\n",
              "      <td>1555</td>\n",
              "      <td>1074.0</td>\n",
              "      <td>11.9</td>\n",
              "      <td>54.0</td>\n",
              "      <td>0.7502</td>\n",
              "    </tr>\n",
              "    <tr>\n",
              "      <th>3</th>\n",
              "      <td>10/3/2004</td>\n",
              "      <td>21.00.00</td>\n",
              "      <td>2.2</td>\n",
              "      <td>1376</td>\n",
              "      <td>80.0</td>\n",
              "      <td>9.2</td>\n",
              "      <td>948</td>\n",
              "      <td>172</td>\n",
              "      <td>1092</td>\n",
              "      <td>122</td>\n",
              "      <td>1584</td>\n",
              "      <td>1203.0</td>\n",
              "      <td>11.0</td>\n",
              "      <td>60.0</td>\n",
              "      <td>0.7867</td>\n",
              "    </tr>\n",
              "    <tr>\n",
              "      <th>4</th>\n",
              "      <td>10/3/2004</td>\n",
              "      <td>22.00.00</td>\n",
              "      <td>1.6</td>\n",
              "      <td>1272</td>\n",
              "      <td>51.0</td>\n",
              "      <td>6.5</td>\n",
              "      <td>836</td>\n",
              "      <td>131</td>\n",
              "      <td>1205</td>\n",
              "      <td>116</td>\n",
              "      <td>1490</td>\n",
              "      <td>1110.0</td>\n",
              "      <td>11.2</td>\n",
              "      <td>59.6</td>\n",
              "      <td>0.7888</td>\n",
              "    </tr>\n",
              "    <tr>\n",
              "      <th>...</th>\n",
              "      <td>...</td>\n",
              "      <td>...</td>\n",
              "      <td>...</td>\n",
              "      <td>...</td>\n",
              "      <td>...</td>\n",
              "      <td>...</td>\n",
              "      <td>...</td>\n",
              "      <td>...</td>\n",
              "      <td>...</td>\n",
              "      <td>...</td>\n",
              "      <td>...</td>\n",
              "      <td>...</td>\n",
              "      <td>...</td>\n",
              "      <td>...</td>\n",
              "      <td>...</td>\n",
              "    </tr>\n",
              "    <tr>\n",
              "      <th>9352</th>\n",
              "      <td>4/4/2005</td>\n",
              "      <td>10.00.00</td>\n",
              "      <td>3.1</td>\n",
              "      <td>1314</td>\n",
              "      <td>-200.0</td>\n",
              "      <td>13.5</td>\n",
              "      <td>1101</td>\n",
              "      <td>472</td>\n",
              "      <td>539</td>\n",
              "      <td>190</td>\n",
              "      <td>1374</td>\n",
              "      <td>1729.0</td>\n",
              "      <td>21.9</td>\n",
              "      <td>29.3</td>\n",
              "      <td>0.7568</td>\n",
              "    </tr>\n",
              "    <tr>\n",
              "      <th>9353</th>\n",
              "      <td>4/4/2005</td>\n",
              "      <td>11.00.00</td>\n",
              "      <td>2.4</td>\n",
              "      <td>1163</td>\n",
              "      <td>-200.0</td>\n",
              "      <td>11.4</td>\n",
              "      <td>1027</td>\n",
              "      <td>353</td>\n",
              "      <td>604</td>\n",
              "      <td>179</td>\n",
              "      <td>1264</td>\n",
              "      <td>1269.0</td>\n",
              "      <td>24.3</td>\n",
              "      <td>23.7</td>\n",
              "      <td>0.7119</td>\n",
              "    </tr>\n",
              "    <tr>\n",
              "      <th>9354</th>\n",
              "      <td>4/4/2005</td>\n",
              "      <td>12.00.00</td>\n",
              "      <td>2.4</td>\n",
              "      <td>1142</td>\n",
              "      <td>-200.0</td>\n",
              "      <td>12.4</td>\n",
              "      <td>1063</td>\n",
              "      <td>293</td>\n",
              "      <td>603</td>\n",
              "      <td>175</td>\n",
              "      <td>1241</td>\n",
              "      <td>1092.0</td>\n",
              "      <td>26.9</td>\n",
              "      <td>18.3</td>\n",
              "      <td>0.6406</td>\n",
              "    </tr>\n",
              "    <tr>\n",
              "      <th>9355</th>\n",
              "      <td>4/4/2005</td>\n",
              "      <td>13.00.00</td>\n",
              "      <td>2.1</td>\n",
              "      <td>1003</td>\n",
              "      <td>-200.0</td>\n",
              "      <td>9.5</td>\n",
              "      <td>961</td>\n",
              "      <td>235</td>\n",
              "      <td>702</td>\n",
              "      <td>156</td>\n",
              "      <td>1041</td>\n",
              "      <td>770.0</td>\n",
              "      <td>28.3</td>\n",
              "      <td>13.5</td>\n",
              "      <td>0.5139</td>\n",
              "    </tr>\n",
              "    <tr>\n",
              "      <th>9356</th>\n",
              "      <td>4/4/2005</td>\n",
              "      <td>14.00.00</td>\n",
              "      <td>2.2</td>\n",
              "      <td>1071</td>\n",
              "      <td>-200.0</td>\n",
              "      <td>11.9</td>\n",
              "      <td>1047</td>\n",
              "      <td>265</td>\n",
              "      <td>654</td>\n",
              "      <td>168</td>\n",
              "      <td>1129</td>\n",
              "      <td>816.0</td>\n",
              "      <td>28.5</td>\n",
              "      <td>13.1</td>\n",
              "      <td>0.5028</td>\n",
              "    </tr>\n",
              "  </tbody>\n",
              "</table>\n",
              "<p>9356 rows × 15 columns</p>\n",
              "</div>"
            ],
            "text/plain": [
              "           Date      Time  CO(GT)  PT08.S1(CO)  ...  PT08.S5(O3)     T    RH      AH\n",
              "0     10/3/2004  18.00.00     2.6         1360  ...       1268.0  13.6  48.9  0.7578\n",
              "1     10/3/2004  19.00.00     2.0         1292  ...        972.0  13.3  47.7  0.7255\n",
              "2     10/3/2004  20.00.00     2.2         1402  ...       1074.0  11.9  54.0  0.7502\n",
              "3     10/3/2004  21.00.00     2.2         1376  ...       1203.0  11.0  60.0  0.7867\n",
              "4     10/3/2004  22.00.00     1.6         1272  ...       1110.0  11.2  59.6  0.7888\n",
              "...         ...       ...     ...          ...  ...          ...   ...   ...     ...\n",
              "9352   4/4/2005  10.00.00     3.1         1314  ...       1729.0  21.9  29.3  0.7568\n",
              "9353   4/4/2005  11.00.00     2.4         1163  ...       1269.0  24.3  23.7  0.7119\n",
              "9354   4/4/2005  12.00.00     2.4         1142  ...       1092.0  26.9  18.3  0.6406\n",
              "9355   4/4/2005  13.00.00     2.1         1003  ...        770.0  28.3  13.5  0.5139\n",
              "9356   4/4/2005  14.00.00     2.2         1071  ...        816.0  28.5  13.1  0.5028\n",
              "\n",
              "[9356 rows x 15 columns]"
            ]
          },
          "metadata": {
            "tags": []
          },
          "execution_count": 103
        }
      ]
    },
    {
      "cell_type": "code",
      "metadata": {
        "colab": {
          "base_uri": "https://localhost:8080/"
        },
        "id": "fJd-ccB05E9T",
        "outputId": "dab83a66-6a07-4efa-80b6-da511a2aeb5d"
      },
      "source": [
        "air.info()"
      ],
      "execution_count": null,
      "outputs": [
        {
          "output_type": "stream",
          "text": [
            "<class 'pandas.core.frame.DataFrame'>\n",
            "Int64Index: 9356 entries, 0 to 9356\n",
            "Data columns (total 15 columns):\n",
            " #   Column         Non-Null Count  Dtype  \n",
            "---  ------         --------------  -----  \n",
            " 0   Date           9356 non-null   object \n",
            " 1   Time           9356 non-null   object \n",
            " 2   CO(GT)         9356 non-null   float64\n",
            " 3   PT08.S1(CO)    9356 non-null   int64  \n",
            " 4   NMHC(GT)       9356 non-null   float64\n",
            " 5   C6H6(GT)       9356 non-null   float64\n",
            " 6   PT08.S2(NMHC)  9356 non-null   int64  \n",
            " 7   NOx(GT)        9356 non-null   int64  \n",
            " 8   PT08.S3(NOx)   9356 non-null   int64  \n",
            " 9   NO2(GT)        9356 non-null   int64  \n",
            " 10  PT08.S4(NO2)   9356 non-null   int64  \n",
            " 11  PT08.S5(O3)    9356 non-null   float64\n",
            " 12  T              9356 non-null   float64\n",
            " 13  RH             9356 non-null   float64\n",
            " 14  AH             9356 non-null   float64\n",
            "dtypes: float64(7), int64(6), object(2)\n",
            "memory usage: 1.1+ MB\n"
          ],
          "name": "stdout"
        }
      ]
    },
    {
      "cell_type": "code",
      "metadata": {
        "colab": {
          "base_uri": "https://localhost:8080/"
        },
        "id": "JacMfjsR5Hd4",
        "outputId": "9cfa14e0-3c58-4760-9e2f-2c409b7ed18c"
      },
      "source": [
        "air.isnull().sum()"
      ],
      "execution_count": null,
      "outputs": [
        {
          "output_type": "execute_result",
          "data": {
            "text/plain": [
              "Date             0\n",
              "Time             0\n",
              "CO(GT)           0\n",
              "PT08.S1(CO)      0\n",
              "NMHC(GT)         0\n",
              "C6H6(GT)         0\n",
              "PT08.S2(NMHC)    0\n",
              "NOx(GT)          0\n",
              "PT08.S3(NOx)     0\n",
              "NO2(GT)          0\n",
              "PT08.S4(NO2)     0\n",
              "PT08.S5(O3)      0\n",
              "T                0\n",
              "RH               0\n",
              "AH               0\n",
              "dtype: int64"
            ]
          },
          "metadata": {
            "tags": []
          },
          "execution_count": 105
        }
      ]
    },
    {
      "cell_type": "code",
      "metadata": {
        "colab": {
          "base_uri": "https://localhost:8080/"
        },
        "id": "rEB70Gxu5KTK",
        "outputId": "add7826d-ec0d-495d-d43f-cc56df6f3fa3"
      },
      "source": [
        "air.isna().sum()"
      ],
      "execution_count": null,
      "outputs": [
        {
          "output_type": "execute_result",
          "data": {
            "text/plain": [
              "Date             0\n",
              "Time             0\n",
              "CO(GT)           0\n",
              "PT08.S1(CO)      0\n",
              "NMHC(GT)         0\n",
              "C6H6(GT)         0\n",
              "PT08.S2(NMHC)    0\n",
              "NOx(GT)          0\n",
              "PT08.S3(NOx)     0\n",
              "NO2(GT)          0\n",
              "PT08.S4(NO2)     0\n",
              "PT08.S5(O3)      0\n",
              "T                0\n",
              "RH               0\n",
              "AH               0\n",
              "dtype: int64"
            ]
          },
          "metadata": {
            "tags": []
          },
          "execution_count": 106
        }
      ]
    },
    {
      "cell_type": "code",
      "metadata": {
        "colab": {
          "base_uri": "https://localhost:8080/"
        },
        "id": "RFwaL5cf5M7l",
        "outputId": "ccf80512-4cd7-465b-f0d8-646bc0bf3456"
      },
      "source": [
        "air.columns"
      ],
      "execution_count": null,
      "outputs": [
        {
          "output_type": "execute_result",
          "data": {
            "text/plain": [
              "Index(['Date', 'Time', 'CO(GT)', 'PT08.S1(CO)', 'NMHC(GT)', 'C6H6(GT)',\n",
              "       'PT08.S2(NMHC)', 'NOx(GT)', 'PT08.S3(NOx)', 'NO2(GT)', 'PT08.S4(NO2)',\n",
              "       'PT08.S5(O3)', 'T', 'RH', 'AH'],\n",
              "      dtype='object')"
            ]
          },
          "metadata": {
            "tags": []
          },
          "execution_count": 107
        }
      ]
    },
    {
      "cell_type": "code",
      "metadata": {
        "colab": {
          "base_uri": "https://localhost:8080/"
        },
        "id": "sAFrMVsn5Pv0",
        "outputId": "3167ece4-ee61-40ca-9503-0e5341e74d4b"
      },
      "source": [
        "(air['Date']==-200).sum()"
      ],
      "execution_count": null,
      "outputs": [
        {
          "output_type": "execute_result",
          "data": {
            "text/plain": [
              "0"
            ]
          },
          "metadata": {
            "tags": []
          },
          "execution_count": 108
        }
      ]
    },
    {
      "cell_type": "code",
      "metadata": {
        "colab": {
          "base_uri": "https://localhost:8080/"
        },
        "id": "9wrVFPKR5U-p",
        "outputId": "2b6e5b87-409c-4889-f5f3-7e6f54f94f1c"
      },
      "source": [
        "(air['Time']==-200).sum()"
      ],
      "execution_count": null,
      "outputs": [
        {
          "output_type": "execute_result",
          "data": {
            "text/plain": [
              "0"
            ]
          },
          "metadata": {
            "tags": []
          },
          "execution_count": 109
        }
      ]
    },
    {
      "cell_type": "code",
      "metadata": {
        "colab": {
          "base_uri": "https://localhost:8080/"
        },
        "id": "EdP15Iy55WWR",
        "outputId": "3b19df25-2f02-41b3-e5ec-a07785cd53e7"
      },
      "source": [
        "air['Hour']=air['Time'].apply(lambda x: int(x.split('.')[0]))\n",
        "air.Hour.head()"
      ],
      "execution_count": null,
      "outputs": [
        {
          "output_type": "execute_result",
          "data": {
            "text/plain": [
              "0    18\n",
              "1    19\n",
              "2    20\n",
              "3    21\n",
              "4    22\n",
              "Name: Hour, dtype: int64"
            ]
          },
          "metadata": {
            "tags": []
          },
          "execution_count": 110
        }
      ]
    },
    {
      "cell_type": "code",
      "metadata": {
        "id": "BP7t-y9N5bHo"
      },
      "source": [
        "air['Date']=pd.to_datetime(air.Date, format='%d/%m/%Y')"
      ],
      "execution_count": null,
      "outputs": []
    },
    {
      "cell_type": "code",
      "metadata": {
        "id": "7HjkHd245bLP"
      },
      "source": [
        "air.set_index('Date',inplace=True)"
      ],
      "execution_count": null,
      "outputs": []
    },
    {
      "cell_type": "code",
      "metadata": {
        "colab": {
          "base_uri": "https://localhost:8080/"
        },
        "id": "VgJCsWNR5i-O",
        "outputId": "410deac1-f283-4751-de92-5236c6fb0f13"
      },
      "source": [
        "air.index"
      ],
      "execution_count": null,
      "outputs": [
        {
          "output_type": "execute_result",
          "data": {
            "text/plain": [
              "DatetimeIndex(['2004-03-10', '2004-03-10', '2004-03-10', '2004-03-10',\n",
              "               '2004-03-10', '2004-03-10', '2004-03-11', '2004-03-11',\n",
              "               '2004-03-11', '2004-03-11',\n",
              "               ...\n",
              "               '2005-04-04', '2005-04-04', '2005-04-04', '2005-04-04',\n",
              "               '2005-04-04', '2005-04-04', '2005-04-04', '2005-04-04',\n",
              "               '2005-04-04', '2005-04-04'],\n",
              "              dtype='datetime64[ns]', name='Date', length=9356, freq=None)"
            ]
          },
          "metadata": {
            "tags": []
          },
          "execution_count": 113
        }
      ]
    },
    {
      "cell_type": "code",
      "metadata": {
        "colab": {
          "base_uri": "https://localhost:8080/"
        },
        "id": "qSeQK58n5m_g",
        "outputId": "7c688752-058f-4e0b-f38a-ccd46979861f"
      },
      "source": [
        "air.index.values"
      ],
      "execution_count": null,
      "outputs": [
        {
          "output_type": "execute_result",
          "data": {
            "text/plain": [
              "array(['2004-03-10T00:00:00.000000000', '2004-03-10T00:00:00.000000000',\n",
              "       '2004-03-10T00:00:00.000000000', ...,\n",
              "       '2005-04-04T00:00:00.000000000', '2005-04-04T00:00:00.000000000',\n",
              "       '2005-04-04T00:00:00.000000000'], dtype='datetime64[ns]')"
            ]
          },
          "metadata": {
            "tags": []
          },
          "execution_count": 114
        }
      ]
    },
    {
      "cell_type": "code",
      "metadata": {
        "id": "kOfqG1bi5reE"
      },
      "source": [
        "air['Month']=air.index.month   \n",
        "air.reset_index(inplace=True)"
      ],
      "execution_count": null,
      "outputs": []
    },
    {
      "cell_type": "code",
      "metadata": {
        "colab": {
          "base_uri": "https://localhost:8080/"
        },
        "id": "nhoomAaJ5yLm",
        "outputId": "793b2e53-befe-4dce-be58-c5a2d023c714"
      },
      "source": [
        "air.iloc[4887,-1]"
      ],
      "execution_count": null,
      "outputs": [
        {
          "output_type": "execute_result",
          "data": {
            "text/plain": [
              "9"
            ]
          },
          "metadata": {
            "tags": []
          },
          "execution_count": 116
        }
      ]
    },
    {
      "cell_type": "code",
      "metadata": {
        "colab": {
          "base_uri": "https://localhost:8080/"
        },
        "id": "W45VUKJ951vs",
        "outputId": "11a5393a-c58a-45f0-bf82-5a7c0bded7ea"
      },
      "source": [
        "(air['CO(GT)']==-200).sum()"
      ],
      "execution_count": null,
      "outputs": [
        {
          "output_type": "execute_result",
          "data": {
            "text/plain": [
              "1682"
            ]
          },
          "metadata": {
            "tags": []
          },
          "execution_count": 117
        }
      ]
    },
    {
      "cell_type": "code",
      "metadata": {
        "colab": {
          "base_uri": "https://localhost:8080/"
        },
        "id": "iP3Gz3_C55ug",
        "outputId": "fff171b8-1779-4147-cb72-41468034a389"
      },
      "source": [
        "(air['PT08.S1(CO)']==-200).sum()"
      ],
      "execution_count": null,
      "outputs": [
        {
          "output_type": "execute_result",
          "data": {
            "text/plain": [
              "366"
            ]
          },
          "metadata": {
            "tags": []
          },
          "execution_count": 118
        }
      ]
    },
    {
      "cell_type": "code",
      "metadata": {
        "colab": {
          "base_uri": "https://localhost:8080/"
        },
        "id": "Wt5qsdxB59JA",
        "outputId": "7a26a466-902f-4a72-ca2b-2d25bfc9acac"
      },
      "source": [
        "(air['NMHC(GT)']==-200).sum()"
      ],
      "execution_count": null,
      "outputs": [
        {
          "output_type": "execute_result",
          "data": {
            "text/plain": [
              "8442"
            ]
          },
          "metadata": {
            "tags": []
          },
          "execution_count": 119
        }
      ]
    },
    {
      "cell_type": "code",
      "metadata": {
        "colab": {
          "base_uri": "https://localhost:8080/"
        },
        "id": "R2Hvy0yl5-Yi",
        "outputId": "7ba268d5-a984-4303-b435-3a6de51bf9cf"
      },
      "source": [
        "(air['C6H6(GT)']==-200).sum()"
      ],
      "execution_count": null,
      "outputs": [
        {
          "output_type": "execute_result",
          "data": {
            "text/plain": [
              "366"
            ]
          },
          "metadata": {
            "tags": []
          },
          "execution_count": 120
        }
      ]
    },
    {
      "cell_type": "code",
      "metadata": {
        "colab": {
          "base_uri": "https://localhost:8080/"
        },
        "id": "7j1hBBN96DEe",
        "outputId": "7b6bd609-935c-4a5e-a848-e8da96769f61"
      },
      "source": [
        "(air['PT08.S2(NMHC)']==-200).sum()"
      ],
      "execution_count": null,
      "outputs": [
        {
          "output_type": "execute_result",
          "data": {
            "text/plain": [
              "366"
            ]
          },
          "metadata": {
            "tags": []
          },
          "execution_count": 121
        }
      ]
    },
    {
      "cell_type": "code",
      "metadata": {
        "colab": {
          "base_uri": "https://localhost:8080/"
        },
        "id": "kHTG_uKw6KGK",
        "outputId": "6b15b7d3-fe4d-4a03-eb03-3582b3f4df3f"
      },
      "source": [
        "(air['NOx(GT)']==-200).sum()"
      ],
      "execution_count": null,
      "outputs": [
        {
          "output_type": "execute_result",
          "data": {
            "text/plain": [
              "1638"
            ]
          },
          "metadata": {
            "tags": []
          },
          "execution_count": 122
        }
      ]
    },
    {
      "cell_type": "code",
      "metadata": {
        "colab": {
          "base_uri": "https://localhost:8080/"
        },
        "id": "Ilwi1-T26QJw",
        "outputId": "fd29d769-0b83-46da-ad22-9238ac43c9b4"
      },
      "source": [
        "(air['PT08.S3(NOx)']==-200).sum()"
      ],
      "execution_count": null,
      "outputs": [
        {
          "output_type": "execute_result",
          "data": {
            "text/plain": [
              "366"
            ]
          },
          "metadata": {
            "tags": []
          },
          "execution_count": 123
        }
      ]
    },
    {
      "cell_type": "code",
      "metadata": {
        "colab": {
          "base_uri": "https://localhost:8080/"
        },
        "id": "SS_ZcK_j6U21",
        "outputId": "221083bd-bcc6-4dff-bb4e-3a3dbee57dd9"
      },
      "source": [
        "(air['NO2(GT)']==-200).sum()"
      ],
      "execution_count": null,
      "outputs": [
        {
          "output_type": "execute_result",
          "data": {
            "text/plain": [
              "1641"
            ]
          },
          "metadata": {
            "tags": []
          },
          "execution_count": 124
        }
      ]
    },
    {
      "cell_type": "code",
      "metadata": {
        "colab": {
          "base_uri": "https://localhost:8080/"
        },
        "id": "RfbZ7yEc6Xxe",
        "outputId": "356a37d4-20d0-4425-f809-cb14040eb2c8"
      },
      "source": [
        "(air['PT08.S4(NO2)']==-200).sum()"
      ],
      "execution_count": null,
      "outputs": [
        {
          "output_type": "execute_result",
          "data": {
            "text/plain": [
              "366"
            ]
          },
          "metadata": {
            "tags": []
          },
          "execution_count": 125
        }
      ]
    },
    {
      "cell_type": "code",
      "metadata": {
        "colab": {
          "base_uri": "https://localhost:8080/"
        },
        "id": "A8aLLq6r6b3R",
        "outputId": "86831a30-920c-4ddc-a058-afea122b7970"
      },
      "source": [
        "(air['PT08.S5(O3)']==-200).sum()"
      ],
      "execution_count": null,
      "outputs": [
        {
          "output_type": "execute_result",
          "data": {
            "text/plain": [
              "366"
            ]
          },
          "metadata": {
            "tags": []
          },
          "execution_count": 126
        }
      ]
    },
    {
      "cell_type": "code",
      "metadata": {
        "colab": {
          "base_uri": "https://localhost:8080/"
        },
        "id": "d1hbtNLB6eVw",
        "outputId": "baf5bcf8-7438-4abb-8c5a-08ccb497af12"
      },
      "source": [
        "(air['T']==-200).sum()"
      ],
      "execution_count": null,
      "outputs": [
        {
          "output_type": "execute_result",
          "data": {
            "text/plain": [
              "366"
            ]
          },
          "metadata": {
            "tags": []
          },
          "execution_count": 127
        }
      ]
    },
    {
      "cell_type": "code",
      "metadata": {
        "colab": {
          "base_uri": "https://localhost:8080/"
        },
        "id": "dlJWnIE46i4b",
        "outputId": "1b66e86e-f431-4ac8-dcc9-25c5e3841d94"
      },
      "source": [
        "(air['RH']==-200).sum()"
      ],
      "execution_count": null,
      "outputs": [
        {
          "output_type": "execute_result",
          "data": {
            "text/plain": [
              "366"
            ]
          },
          "metadata": {
            "tags": []
          },
          "execution_count": 128
        }
      ]
    },
    {
      "cell_type": "code",
      "metadata": {
        "colab": {
          "base_uri": "https://localhost:8080/"
        },
        "id": "c8y59brc6ln5",
        "outputId": "ed53887e-a101-40ff-bde3-358dabc6a6c8"
      },
      "source": [
        "(air['AH']==-200).sum()"
      ],
      "execution_count": null,
      "outputs": [
        {
          "output_type": "execute_result",
          "data": {
            "text/plain": [
              "366"
            ]
          },
          "metadata": {
            "tags": []
          },
          "execution_count": 129
        }
      ]
    },
    {
      "cell_type": "code",
      "metadata": {
        "id": "Qh2BTvXu6oZ5"
      },
      "source": [
        "air['CO(GT)']=air['CO(GT)'].transform(lambda x: x.replace([-200.0],[np.nan]))"
      ],
      "execution_count": null,
      "outputs": []
    },
    {
      "cell_type": "code",
      "metadata": {
        "colab": {
          "base_uri": "https://localhost:8080/"
        },
        "id": "euXT9uBP6qzW",
        "outputId": "8d0738a9-9ae6-436f-f19c-bfb2bbaa08bb"
      },
      "source": [
        "air['CO(GT)'].median()"
      ],
      "execution_count": null,
      "outputs": [
        {
          "output_type": "execute_result",
          "data": {
            "text/plain": [
              "1.8"
            ]
          },
          "metadata": {
            "tags": []
          },
          "execution_count": 131
        }
      ]
    },
    {
      "cell_type": "code",
      "metadata": {
        "colab": {
          "base_uri": "https://localhost:8080/"
        },
        "id": "aUoef7Dw6uaX",
        "outputId": "a8e01099-bfb8-43cd-9315-4cedc2c21d05"
      },
      "source": [
        "air['CO(GT)'].isna().sum()"
      ],
      "execution_count": null,
      "outputs": [
        {
          "output_type": "execute_result",
          "data": {
            "text/plain": [
              "1682"
            ]
          },
          "metadata": {
            "tags": []
          },
          "execution_count": 132
        }
      ]
    },
    {
      "cell_type": "code",
      "metadata": {
        "colab": {
          "base_uri": "https://localhost:8080/"
        },
        "id": "sJ7QTF616xf_",
        "outputId": "6f605fe6-6ac7-49d7-c5d0-35c7e6313352"
      },
      "source": [
        "air['CO(GT)']=air['CO(GT)'].fillna(1.8)\n",
        "air['CO(GT)'].isna().sum()"
      ],
      "execution_count": null,
      "outputs": [
        {
          "output_type": "execute_result",
          "data": {
            "text/plain": [
              "0"
            ]
          },
          "metadata": {
            "tags": []
          },
          "execution_count": 133
        }
      ]
    },
    {
      "cell_type": "code",
      "metadata": {
        "colab": {
          "base_uri": "https://localhost:8080/"
        },
        "id": "gWAMz33h6zxF",
        "outputId": "e27dc491-1183-4807-93af-c752162bd176"
      },
      "source": [
        "air['PT08.S1(CO)']=air['PT08.S1(CO)'].transform(lambda x: x.replace([-200.0],[np.nan]))\n",
        "air['PT08.S1(CO)'].median()"
      ],
      "execution_count": null,
      "outputs": [
        {
          "output_type": "execute_result",
          "data": {
            "text/plain": [
              "1063.0"
            ]
          },
          "metadata": {
            "tags": []
          },
          "execution_count": 134
        }
      ]
    },
    {
      "cell_type": "code",
      "metadata": {
        "colab": {
          "base_uri": "https://localhost:8080/"
        },
        "id": "0OcZPw8Q64kL",
        "outputId": "f4919b99-8682-49ed-a9d5-b792f50f44b3"
      },
      "source": [
        "air['PT08.S1(CO)'].isna().sum()"
      ],
      "execution_count": null,
      "outputs": [
        {
          "output_type": "execute_result",
          "data": {
            "text/plain": [
              "366"
            ]
          },
          "metadata": {
            "tags": []
          },
          "execution_count": 135
        }
      ]
    },
    {
      "cell_type": "code",
      "metadata": {
        "colab": {
          "base_uri": "https://localhost:8080/"
        },
        "id": "etpEkfuL67FW",
        "outputId": "78a1c17c-4308-46f3-ce63-4c49c9c9c97c"
      },
      "source": [
        "air['PT08.S1(CO)']=air['PT08.S1(CO)'].fillna(1063.0)\n",
        "air['PT08.S1(CO)'].isna().sum()"
      ],
      "execution_count": null,
      "outputs": [
        {
          "output_type": "execute_result",
          "data": {
            "text/plain": [
              "0"
            ]
          },
          "metadata": {
            "tags": []
          },
          "execution_count": 136
        }
      ]
    },
    {
      "cell_type": "code",
      "metadata": {
        "colab": {
          "base_uri": "https://localhost:8080/"
        },
        "id": "PAmIp__16-gk",
        "outputId": "8b1d097d-72c3-46c1-8a7e-433d8401fff4"
      },
      "source": [
        "air['NMHC(GT)']=air['NMHC(GT)'].transform(lambda x: x.replace([-200.0],[np.nan]))\n",
        "air['NMHC(GT)'].median()"
      ],
      "execution_count": null,
      "outputs": [
        {
          "output_type": "execute_result",
          "data": {
            "text/plain": [
              "150.0"
            ]
          },
          "metadata": {
            "tags": []
          },
          "execution_count": 137
        }
      ]
    },
    {
      "cell_type": "code",
      "metadata": {
        "id": "NxFxGYtn7CVg"
      },
      "source": [
        "air['NMHC(GT)'].isna().sum()\n",
        "air['NMHC(GT)']=air['NMHC(GT)'].fillna(150.0)"
      ],
      "execution_count": null,
      "outputs": []
    },
    {
      "cell_type": "code",
      "metadata": {
        "colab": {
          "base_uri": "https://localhost:8080/"
        },
        "id": "YH1rOJVG7G6a",
        "outputId": "7ef2a43a-b5f2-41f6-b830-828c1942d24d"
      },
      "source": [
        "air['NMHC(GT)'].isna().sum()\n"
      ],
      "execution_count": null,
      "outputs": [
        {
          "output_type": "execute_result",
          "data": {
            "text/plain": [
              "0"
            ]
          },
          "metadata": {
            "tags": []
          },
          "execution_count": 139
        }
      ]
    },
    {
      "cell_type": "code",
      "metadata": {
        "colab": {
          "base_uri": "https://localhost:8080/"
        },
        "id": "mi5tyJH_7IFj",
        "outputId": "877a0060-25fd-4541-dfaa-18940c917e5d"
      },
      "source": [
        "air['C6H6(GT)']=air['C6H6(GT)'].transform(lambda x: x.replace([-200.0],[np.nan]))\n",
        "air['C6H6(GT)'].median()\n"
      ],
      "execution_count": null,
      "outputs": [
        {
          "output_type": "execute_result",
          "data": {
            "text/plain": [
              "8.2"
            ]
          },
          "metadata": {
            "tags": []
          },
          "execution_count": 140
        }
      ]
    },
    {
      "cell_type": "code",
      "metadata": {
        "colab": {
          "base_uri": "https://localhost:8080/"
        },
        "id": "2ZkHy-Af7IRA",
        "outputId": "40ac77a8-dd06-46b0-d42c-8197c6959b2c"
      },
      "source": [
        "air['C6H6(GT)'].isna().sum()"
      ],
      "execution_count": null,
      "outputs": [
        {
          "output_type": "execute_result",
          "data": {
            "text/plain": [
              "366"
            ]
          },
          "metadata": {
            "tags": []
          },
          "execution_count": 141
        }
      ]
    },
    {
      "cell_type": "code",
      "metadata": {
        "id": "vObXuvkm7Njx"
      },
      "source": [
        "air['C6H6(GT)']=air['C6H6(GT)'].fillna(8.2)"
      ],
      "execution_count": null,
      "outputs": []
    },
    {
      "cell_type": "code",
      "metadata": {
        "colab": {
          "base_uri": "https://localhost:8080/"
        },
        "id": "krUvMw_E7NrW",
        "outputId": "4fc7609b-37ca-4da8-d034-96c7f2806211"
      },
      "source": [
        "air['C6H6(GT)'].isna().sum()"
      ],
      "execution_count": null,
      "outputs": [
        {
          "output_type": "execute_result",
          "data": {
            "text/plain": [
              "0"
            ]
          },
          "metadata": {
            "tags": []
          },
          "execution_count": 143
        }
      ]
    },
    {
      "cell_type": "code",
      "metadata": {
        "colab": {
          "base_uri": "https://localhost:8080/"
        },
        "id": "SCJtJP-57Nyt",
        "outputId": "ebf98109-3fa0-4fa0-8fc4-5b49383c837e"
      },
      "source": [
        "air['PT08.S2(NMHC)']=air['PT08.S2(NMHC)'].transform(lambda x: x.replace([-200.0],[np.nan]))\n",
        "air.shape"
      ],
      "execution_count": null,
      "outputs": [
        {
          "output_type": "execute_result",
          "data": {
            "text/plain": [
              "(9356, 17)"
            ]
          },
          "metadata": {
            "tags": []
          },
          "execution_count": 144
        }
      ]
    },
    {
      "cell_type": "code",
      "metadata": {
        "colab": {
          "base_uri": "https://localhost:8080/"
        },
        "id": "XlY-05f27WTb",
        "outputId": "9982dfec-9283-496d-c092-f80cd5e67902"
      },
      "source": [
        "air['PT08.S2(NMHC)'].median()"
      ],
      "execution_count": null,
      "outputs": [
        {
          "output_type": "execute_result",
          "data": {
            "text/plain": [
              "909.0"
            ]
          },
          "metadata": {
            "tags": []
          },
          "execution_count": 145
        }
      ]
    },
    {
      "cell_type": "code",
      "metadata": {
        "colab": {
          "base_uri": "https://localhost:8080/"
        },
        "id": "w_MOMzV37WaQ",
        "outputId": "39acbace-7625-41d1-cd14-db42ff3c8459"
      },
      "source": [
        "air['PT08.S2(NMHC)'].isna().sum()"
      ],
      "execution_count": null,
      "outputs": [
        {
          "output_type": "execute_result",
          "data": {
            "text/plain": [
              "366"
            ]
          },
          "metadata": {
            "tags": []
          },
          "execution_count": 146
        }
      ]
    },
    {
      "cell_type": "code",
      "metadata": {
        "id": "EPdVy5fd7WgY"
      },
      "source": [
        "air['PT08.S2(NMHC)']=air['PT08.S2(NMHC)'].fillna(air['PT08.S2(NMHC)'].median())"
      ],
      "execution_count": null,
      "outputs": []
    },
    {
      "cell_type": "code",
      "metadata": {
        "colab": {
          "base_uri": "https://localhost:8080/"
        },
        "id": "yFsIQhO37WnC",
        "outputId": "0bd6d69a-6029-4615-a0a1-133669e527d0"
      },
      "source": [
        "air['PT08.S2(NMHC)'].isna().sum()"
      ],
      "execution_count": null,
      "outputs": [
        {
          "output_type": "execute_result",
          "data": {
            "text/plain": [
              "0"
            ]
          },
          "metadata": {
            "tags": []
          },
          "execution_count": 148
        }
      ]
    },
    {
      "cell_type": "code",
      "metadata": {
        "id": "s7Nqzh8o7gez"
      },
      "source": [
        "air['NOx(GT)']=air['NOx(GT)'].transform(lambda x: x.replace([-200.0],[np.nan]))"
      ],
      "execution_count": null,
      "outputs": []
    },
    {
      "cell_type": "code",
      "metadata": {
        "colab": {
          "base_uri": "https://localhost:8080/"
        },
        "id": "GarJeSRY7gnP",
        "outputId": "f40ee78d-5450-406d-97c1-e80045dd6d9b"
      },
      "source": [
        "air['NOx(GT)'].median()"
      ],
      "execution_count": null,
      "outputs": [
        {
          "output_type": "execute_result",
          "data": {
            "text/plain": [
              "180.0"
            ]
          },
          "metadata": {
            "tags": []
          },
          "execution_count": 150
        }
      ]
    },
    {
      "cell_type": "code",
      "metadata": {
        "colab": {
          "base_uri": "https://localhost:8080/"
        },
        "id": "ZF_6rni37grb",
        "outputId": "4658994a-1966-4a1f-cc69-bc5bef3082ea"
      },
      "source": [
        "air['NOx(GT)'].isna().sum()"
      ],
      "execution_count": null,
      "outputs": [
        {
          "output_type": "execute_result",
          "data": {
            "text/plain": [
              "1638"
            ]
          },
          "metadata": {
            "tags": []
          },
          "execution_count": 151
        }
      ]
    },
    {
      "cell_type": "code",
      "metadata": {
        "id": "gJzo3W807gvF"
      },
      "source": [
        "air['NOx(GT)']=air['NOx(GT)'].fillna(air['NOx(GT)'].median())"
      ],
      "execution_count": null,
      "outputs": []
    },
    {
      "cell_type": "code",
      "metadata": {
        "colab": {
          "base_uri": "https://localhost:8080/"
        },
        "id": "zznAbcl67gz4",
        "outputId": "8aff40c4-d917-4d33-8e7d-7a9132eba8ea"
      },
      "source": [
        "air['NOx(GT)'].isna().sum()"
      ],
      "execution_count": null,
      "outputs": [
        {
          "output_type": "execute_result",
          "data": {
            "text/plain": [
              "0"
            ]
          },
          "metadata": {
            "tags": []
          },
          "execution_count": 153
        }
      ]
    },
    {
      "cell_type": "code",
      "metadata": {
        "id": "_2OFAUEj7g4W"
      },
      "source": [
        "air['PT08.S3(NOx)']=air['PT08.S3(NOx)'].transform(lambda x: x.replace([-200.0],[np.nan]))"
      ],
      "execution_count": null,
      "outputs": []
    },
    {
      "cell_type": "code",
      "metadata": {
        "colab": {
          "base_uri": "https://localhost:8080/"
        },
        "id": "6soa0gK97xoG",
        "outputId": "745c72c6-2a03-4725-e1c4-e2246a966e6a"
      },
      "source": [
        "air['PT08.S3(NOx)'].median()"
      ],
      "execution_count": null,
      "outputs": [
        {
          "output_type": "execute_result",
          "data": {
            "text/plain": [
              "806.0"
            ]
          },
          "metadata": {
            "tags": []
          },
          "execution_count": 155
        }
      ]
    },
    {
      "cell_type": "code",
      "metadata": {
        "colab": {
          "base_uri": "https://localhost:8080/"
        },
        "id": "gWlSbwaF7xre",
        "outputId": "bb0dba76-fe25-4dcd-ddc9-9b8d7ca04d83"
      },
      "source": [
        "air['PT08.S3(NOx)'].isna().sum()"
      ],
      "execution_count": null,
      "outputs": [
        {
          "output_type": "execute_result",
          "data": {
            "text/plain": [
              "366"
            ]
          },
          "metadata": {
            "tags": []
          },
          "execution_count": 156
        }
      ]
    },
    {
      "cell_type": "code",
      "metadata": {
        "colab": {
          "base_uri": "https://localhost:8080/"
        },
        "id": "Lmh26yKT7xuV",
        "outputId": "44080848-9d4e-4f80-d0e1-bf904c1c3be6"
      },
      "source": [
        "air['PT08.S3(NOx)']=air['PT08.S3(NOx)'].fillna(air['PT08.S3(NOx)'].median())\n",
        "air['PT08.S3(NOx)'].isna().sum()"
      ],
      "execution_count": null,
      "outputs": [
        {
          "output_type": "execute_result",
          "data": {
            "text/plain": [
              "0"
            ]
          },
          "metadata": {
            "tags": []
          },
          "execution_count": 157
        }
      ]
    },
    {
      "cell_type": "code",
      "metadata": {
        "colab": {
          "base_uri": "https://localhost:8080/"
        },
        "id": "EqoBEGA-7xxI",
        "outputId": "5623a947-d0c2-49b4-ede8-a79f10c46d1c"
      },
      "source": [
        "air['NO2(GT)']=air['NO2(GT)'].transform(lambda x: x.replace([-200.0],[np.nan]))\n",
        "air['NO2(GT)'].median()"
      ],
      "execution_count": null,
      "outputs": [
        {
          "output_type": "execute_result",
          "data": {
            "text/plain": [
              "109.0"
            ]
          },
          "metadata": {
            "tags": []
          },
          "execution_count": 158
        }
      ]
    },
    {
      "cell_type": "code",
      "metadata": {
        "colab": {
          "base_uri": "https://localhost:8080/"
        },
        "id": "Rt4peoUn7xzt",
        "outputId": "2327c8e2-994a-4b76-877c-a00ec90e3c49"
      },
      "source": [
        "air['NO2(GT)'].isna().sum()"
      ],
      "execution_count": null,
      "outputs": [
        {
          "output_type": "execute_result",
          "data": {
            "text/plain": [
              "1641"
            ]
          },
          "metadata": {
            "tags": []
          },
          "execution_count": 159
        }
      ]
    },
    {
      "cell_type": "code",
      "metadata": {
        "colab": {
          "base_uri": "https://localhost:8080/"
        },
        "id": "-t7p6rt77x2B",
        "outputId": "1589d501-5636-4078-c673-7e0f079f7980"
      },
      "source": [
        "air['NO2(GT)']=air['NO2(GT)'].fillna(air['NO2(GT)'].median())\n",
        "air['NO2(GT)'].isna().sum()"
      ],
      "execution_count": null,
      "outputs": [
        {
          "output_type": "execute_result",
          "data": {
            "text/plain": [
              "0"
            ]
          },
          "metadata": {
            "tags": []
          },
          "execution_count": 160
        }
      ]
    },
    {
      "cell_type": "code",
      "metadata": {
        "colab": {
          "base_uri": "https://localhost:8080/"
        },
        "id": "-OZOLvom7x5j",
        "outputId": "88815393-619c-4025-e821-00c5624a447d"
      },
      "source": [
        "air['PT08.S4(NO2)']=air['PT08.S4(NO2)'].transform(lambda x: x.replace([-200.0],[np.nan]))\n",
        "air['PT08.S4(NO2)'].median()"
      ],
      "execution_count": null,
      "outputs": [
        {
          "output_type": "execute_result",
          "data": {
            "text/plain": [
              "1463.0"
            ]
          },
          "metadata": {
            "tags": []
          },
          "execution_count": 161
        }
      ]
    },
    {
      "cell_type": "code",
      "metadata": {
        "colab": {
          "base_uri": "https://localhost:8080/"
        },
        "id": "rSS3iTbA7x7h",
        "outputId": "47ec59a1-2859-4c46-cc3c-0789b7968f4e"
      },
      "source": [
        "air['PT08.S4(NO2)'].isna().sum()"
      ],
      "execution_count": null,
      "outputs": [
        {
          "output_type": "execute_result",
          "data": {
            "text/plain": [
              "366"
            ]
          },
          "metadata": {
            "tags": []
          },
          "execution_count": 162
        }
      ]
    },
    {
      "cell_type": "code",
      "metadata": {
        "id": "bEAFg_ls7x-i"
      },
      "source": [
        "air['PT08.S4(NO2)']=air['PT08.S4(NO2)'].fillna(air['PT08.S4(NO2)'].median())"
      ],
      "execution_count": null,
      "outputs": []
    },
    {
      "cell_type": "code",
      "metadata": {
        "colab": {
          "base_uri": "https://localhost:8080/"
        },
        "id": "mZetDmUI7yBp",
        "outputId": "ca6a06cc-0a78-417e-e8ca-eb511ba1d631"
      },
      "source": [
        "air['PT08.S4(NO2)'].isna().sum()"
      ],
      "execution_count": null,
      "outputs": [
        {
          "output_type": "execute_result",
          "data": {
            "text/plain": [
              "0"
            ]
          },
          "metadata": {
            "tags": []
          },
          "execution_count": 164
        }
      ]
    },
    {
      "cell_type": "code",
      "metadata": {
        "colab": {
          "base_uri": "https://localhost:8080/"
        },
        "id": "h884V9D38K_p",
        "outputId": "142ad07f-1e3d-4418-a401-5368f8918f8b"
      },
      "source": [
        "air['PT08.S5(O3)']=air['PT08.S5(O3)'].transform(lambda x: x.replace([-200.0],[np.nan]))\n",
        "air['PT08.S5(O3)'].median()"
      ],
      "execution_count": null,
      "outputs": [
        {
          "output_type": "execute_result",
          "data": {
            "text/plain": [
              "963.0"
            ]
          },
          "metadata": {
            "tags": []
          },
          "execution_count": 165
        }
      ]
    },
    {
      "cell_type": "code",
      "metadata": {
        "colab": {
          "base_uri": "https://localhost:8080/"
        },
        "id": "fTUSu5308LCt",
        "outputId": "4f1ac7eb-9fce-43a5-9e7c-789b96c2e9e8"
      },
      "source": [
        "air['PT08.S5(O3)'].isna().sum()"
      ],
      "execution_count": null,
      "outputs": [
        {
          "output_type": "execute_result",
          "data": {
            "text/plain": [
              "366"
            ]
          },
          "metadata": {
            "tags": []
          },
          "execution_count": 166
        }
      ]
    },
    {
      "cell_type": "code",
      "metadata": {
        "colab": {
          "base_uri": "https://localhost:8080/"
        },
        "id": "lRsa0knN8LFY",
        "outputId": "acb8643f-788e-4d64-d404-3fe9d2f4b2c0"
      },
      "source": [
        "air['PT08.S5(O3)']=air['PT08.S5(O3)'].fillna(air['PT08.S5(O3)'].median())\n",
        "air['PT08.S5(O3)'].isna().sum()"
      ],
      "execution_count": null,
      "outputs": [
        {
          "output_type": "execute_result",
          "data": {
            "text/plain": [
              "0"
            ]
          },
          "metadata": {
            "tags": []
          },
          "execution_count": 167
        }
      ]
    },
    {
      "cell_type": "code",
      "metadata": {
        "id": "zlxEFhTz8LId"
      },
      "source": [
        "air['T']=air['T'].transform(lambda x: x.replace([-200.0],[np.nan]))"
      ],
      "execution_count": null,
      "outputs": []
    },
    {
      "cell_type": "code",
      "metadata": {
        "colab": {
          "base_uri": "https://localhost:8080/"
        },
        "id": "Imw7sFf68LLV",
        "outputId": "65e6b4da-76ba-4747-c6f5-97a52827be50"
      },
      "source": [
        "air['T'].median()"
      ],
      "execution_count": null,
      "outputs": [
        {
          "output_type": "execute_result",
          "data": {
            "text/plain": [
              "17.8"
            ]
          },
          "metadata": {
            "tags": []
          },
          "execution_count": 169
        }
      ]
    },
    {
      "cell_type": "code",
      "metadata": {
        "colab": {
          "base_uri": "https://localhost:8080/"
        },
        "id": "6tq80rAw8LOp",
        "outputId": "7a9ec6d3-2cc2-46b2-b288-b0e231bc03de"
      },
      "source": [
        "air['T'].isna().sum()"
      ],
      "execution_count": null,
      "outputs": [
        {
          "output_type": "execute_result",
          "data": {
            "text/plain": [
              "366"
            ]
          },
          "metadata": {
            "tags": []
          },
          "execution_count": 170
        }
      ]
    },
    {
      "cell_type": "code",
      "metadata": {
        "colab": {
          "base_uri": "https://localhost:8080/"
        },
        "id": "9QHxDIGf8LRe",
        "outputId": "8e3bc5ab-6ef7-483b-f9d7-9e51ee1c5ec9"
      },
      "source": [
        "air['T']=air['T'].fillna(air['T'].median())\n",
        "air['T'].isna().sum()"
      ],
      "execution_count": null,
      "outputs": [
        {
          "output_type": "execute_result",
          "data": {
            "text/plain": [
              "0"
            ]
          },
          "metadata": {
            "tags": []
          },
          "execution_count": 171
        }
      ]
    },
    {
      "cell_type": "code",
      "metadata": {
        "colab": {
          "base_uri": "https://localhost:8080/"
        },
        "id": "pevuhRAQ8ewW",
        "outputId": "e576415c-71fe-4f39-9c99-d1d1658a4453"
      },
      "source": [
        "air['RH']=air['RH'].transform(lambda x: x.replace([-200.0],[np.nan]))\n",
        "air['RH'].median()"
      ],
      "execution_count": null,
      "outputs": [
        {
          "output_type": "execute_result",
          "data": {
            "text/plain": [
              "49.55"
            ]
          },
          "metadata": {
            "tags": []
          },
          "execution_count": 172
        }
      ]
    },
    {
      "cell_type": "code",
      "metadata": {
        "colab": {
          "base_uri": "https://localhost:8080/"
        },
        "id": "wSbZuqbt8ezS",
        "outputId": "c744032e-94c1-442e-9767-a440c262afcd"
      },
      "source": [
        "air['RH'].isna().sum()"
      ],
      "execution_count": null,
      "outputs": [
        {
          "output_type": "execute_result",
          "data": {
            "text/plain": [
              "366"
            ]
          },
          "metadata": {
            "tags": []
          },
          "execution_count": 173
        }
      ]
    },
    {
      "cell_type": "code",
      "metadata": {
        "colab": {
          "base_uri": "https://localhost:8080/"
        },
        "id": "P9UnnfTD8e2Y",
        "outputId": "b81d2b92-d096-4997-b4b7-48ca6208e5f4"
      },
      "source": [
        "air['RH']=air['RH'].fillna(air['RH'].median())\n",
        "air['RH'].isna().sum()"
      ],
      "execution_count": null,
      "outputs": [
        {
          "output_type": "execute_result",
          "data": {
            "text/plain": [
              "0"
            ]
          },
          "metadata": {
            "tags": []
          },
          "execution_count": 174
        }
      ]
    },
    {
      "cell_type": "code",
      "metadata": {
        "colab": {
          "base_uri": "https://localhost:8080/"
        },
        "id": "Pp4rtaLe8e5O",
        "outputId": "06e0c91f-7652-49a6-fe8e-3243a521fad5"
      },
      "source": [
        "air['AH']=air['AH'].transform(lambda x: x.replace([-200.0],[np.nan]))\n",
        "air['AH'].median()\n"
      ],
      "execution_count": null,
      "outputs": [
        {
          "output_type": "execute_result",
          "data": {
            "text/plain": [
              "0.99535"
            ]
          },
          "metadata": {
            "tags": []
          },
          "execution_count": 175
        }
      ]
    },
    {
      "cell_type": "code",
      "metadata": {
        "colab": {
          "base_uri": "https://localhost:8080/"
        },
        "id": "5Cus-3ct8fBZ",
        "outputId": "f498d10a-d4ca-4d72-ef5f-b8b1ec2b8c85"
      },
      "source": [
        "air['AH'].isna().sum()"
      ],
      "execution_count": null,
      "outputs": [
        {
          "output_type": "execute_result",
          "data": {
            "text/plain": [
              "366"
            ]
          },
          "metadata": {
            "tags": []
          },
          "execution_count": 176
        }
      ]
    },
    {
      "cell_type": "code",
      "metadata": {
        "colab": {
          "base_uri": "https://localhost:8080/"
        },
        "id": "NHG3IVOq8wgD",
        "outputId": "5067d3a9-d005-4052-8a00-18d27b7154e7"
      },
      "source": [
        "air['AH']=air['AH'].fillna(air['AH'].median())\n",
        "air['AH'].isna().sum()"
      ],
      "execution_count": null,
      "outputs": [
        {
          "output_type": "execute_result",
          "data": {
            "text/plain": [
              "0"
            ]
          },
          "metadata": {
            "tags": []
          },
          "execution_count": 177
        }
      ]
    },
    {
      "cell_type": "code",
      "metadata": {
        "colab": {
          "base_uri": "https://localhost:8080/"
        },
        "id": "b6189q3T8wkG",
        "outputId": "da62af1c-a81b-4874-8501-d2f03a276899"
      },
      "source": [
        "air.median()"
      ],
      "execution_count": null,
      "outputs": [
        {
          "output_type": "stream",
          "text": [
            "/usr/local/lib/python3.6/dist-packages/ipykernel_launcher.py:1: FutureWarning: DataFrame.mean and DataFrame.median with numeric_only=None will include datetime64 and datetime64tz columns in a future version.\n",
            "  \"\"\"Entry point for launching an IPython kernel.\n"
          ],
          "name": "stderr"
        },
        {
          "output_type": "execute_result",
          "data": {
            "text/plain": [
              "CO(GT)              1.80000\n",
              "PT08.S1(CO)      1063.00000\n",
              "NMHC(GT)          150.00000\n",
              "C6H6(GT)            8.20000\n",
              "PT08.S2(NMHC)     909.00000\n",
              "NOx(GT)           180.00000\n",
              "PT08.S3(NOx)      806.00000\n",
              "NO2(GT)           109.00000\n",
              "PT08.S4(NO2)     1463.00000\n",
              "PT08.S5(O3)       963.00000\n",
              "T                  17.80000\n",
              "RH                 49.55000\n",
              "AH                  0.99535\n",
              "Hour               11.00000\n",
              "Month               6.00000\n",
              "dtype: float64"
            ]
          },
          "metadata": {
            "tags": []
          },
          "execution_count": 178
        }
      ]
    },
    {
      "cell_type": "code",
      "metadata": {
        "colab": {
          "base_uri": "https://localhost:8080/"
        },
        "id": "2gdPHE898wn5",
        "outputId": "20a78aac-6b11-496a-cb24-e354cb38cbd5"
      },
      "source": [
        "air.std()"
      ],
      "execution_count": null,
      "outputs": [
        {
          "output_type": "execute_result",
          "data": {
            "text/plain": [
              "CO(GT)             1.323092\n",
              "PT08.S1(CO)      212.895569\n",
              "NMHC(GT)          67.061704\n",
              "C6H6(GT)           7.311295\n",
              "PT08.S2(NMHC)    261.609569\n",
              "NOx(GT)          195.100618\n",
              "PT08.S3(NOx)     251.804452\n",
              "NO2(GT)           43.950854\n",
              "PT08.S4(NO2)     339.371831\n",
              "PT08.S5(O3)      390.756532\n",
              "T                  8.658684\n",
              "RH                16.975620\n",
              "AH                 0.395895\n",
              "Hour               6.923503\n",
              "Month              3.438231\n",
              "dtype: float64"
            ]
          },
          "metadata": {
            "tags": []
          },
          "execution_count": 179
        }
      ]
    },
    {
      "cell_type": "code",
      "metadata": {
        "colab": {
          "base_uri": "https://localhost:8080/"
        },
        "id": "mK4phSmD8wrM",
        "outputId": "cd92c9e2-0f28-4717-f5d8-39b4f81d73dd"
      },
      "source": [
        "cols=air.columns.tolist()[2:]\n",
        "cols"
      ],
      "execution_count": null,
      "outputs": [
        {
          "output_type": "execute_result",
          "data": {
            "text/plain": [
              "['CO(GT)',\n",
              " 'PT08.S1(CO)',\n",
              " 'NMHC(GT)',\n",
              " 'C6H6(GT)',\n",
              " 'PT08.S2(NMHC)',\n",
              " 'NOx(GT)',\n",
              " 'PT08.S3(NOx)',\n",
              " 'NO2(GT)',\n",
              " 'PT08.S4(NO2)',\n",
              " 'PT08.S5(O3)',\n",
              " 'T',\n",
              " 'RH',\n",
              " 'AH',\n",
              " 'Hour',\n",
              " 'Month']"
            ]
          },
          "metadata": {
            "tags": []
          },
          "execution_count": 180
        }
      ]
    },
    {
      "cell_type": "code",
      "metadata": {
        "id": "6Ci1a4Ci8wt-"
      },
      "source": [
        "X=air[cols].drop('RH',axis=1) \n",
        "y=air['RH']"
      ],
      "execution_count": null,
      "outputs": []
    },
    {
      "cell_type": "code",
      "metadata": {
        "colab": {
          "base_uri": "https://localhost:8080/",
          "height": 402
        },
        "id": "u3o2EKdU8wxT",
        "outputId": "eaba8891-5c0c-4262-8262-63b2facb4ad7"
      },
      "source": [
        "X"
      ],
      "execution_count": null,
      "outputs": [
        {
          "output_type": "execute_result",
          "data": {
            "text/html": [
              "<div>\n",
              "<style scoped>\n",
              "    .dataframe tbody tr th:only-of-type {\n",
              "        vertical-align: middle;\n",
              "    }\n",
              "\n",
              "    .dataframe tbody tr th {\n",
              "        vertical-align: top;\n",
              "    }\n",
              "\n",
              "    .dataframe thead th {\n",
              "        text-align: right;\n",
              "    }\n",
              "</style>\n",
              "<table border=\"1\" class=\"dataframe\">\n",
              "  <thead>\n",
              "    <tr style=\"text-align: right;\">\n",
              "      <th></th>\n",
              "      <th>CO(GT)</th>\n",
              "      <th>PT08.S1(CO)</th>\n",
              "      <th>NMHC(GT)</th>\n",
              "      <th>C6H6(GT)</th>\n",
              "      <th>PT08.S2(NMHC)</th>\n",
              "      <th>NOx(GT)</th>\n",
              "      <th>PT08.S3(NOx)</th>\n",
              "      <th>NO2(GT)</th>\n",
              "      <th>PT08.S4(NO2)</th>\n",
              "      <th>PT08.S5(O3)</th>\n",
              "      <th>T</th>\n",
              "      <th>AH</th>\n",
              "      <th>Hour</th>\n",
              "      <th>Month</th>\n",
              "    </tr>\n",
              "  </thead>\n",
              "  <tbody>\n",
              "    <tr>\n",
              "      <th>0</th>\n",
              "      <td>2.6</td>\n",
              "      <td>1360.0</td>\n",
              "      <td>150.0</td>\n",
              "      <td>11.9</td>\n",
              "      <td>1046.0</td>\n",
              "      <td>166.0</td>\n",
              "      <td>1056.0</td>\n",
              "      <td>113.0</td>\n",
              "      <td>1692.0</td>\n",
              "      <td>1268.0</td>\n",
              "      <td>13.6</td>\n",
              "      <td>0.7578</td>\n",
              "      <td>18</td>\n",
              "      <td>3</td>\n",
              "    </tr>\n",
              "    <tr>\n",
              "      <th>1</th>\n",
              "      <td>2.0</td>\n",
              "      <td>1292.0</td>\n",
              "      <td>112.0</td>\n",
              "      <td>9.4</td>\n",
              "      <td>955.0</td>\n",
              "      <td>103.0</td>\n",
              "      <td>1174.0</td>\n",
              "      <td>92.0</td>\n",
              "      <td>1559.0</td>\n",
              "      <td>972.0</td>\n",
              "      <td>13.3</td>\n",
              "      <td>0.7255</td>\n",
              "      <td>19</td>\n",
              "      <td>3</td>\n",
              "    </tr>\n",
              "    <tr>\n",
              "      <th>2</th>\n",
              "      <td>2.2</td>\n",
              "      <td>1402.0</td>\n",
              "      <td>88.0</td>\n",
              "      <td>9.0</td>\n",
              "      <td>939.0</td>\n",
              "      <td>131.0</td>\n",
              "      <td>1140.0</td>\n",
              "      <td>114.0</td>\n",
              "      <td>1555.0</td>\n",
              "      <td>1074.0</td>\n",
              "      <td>11.9</td>\n",
              "      <td>0.7502</td>\n",
              "      <td>20</td>\n",
              "      <td>3</td>\n",
              "    </tr>\n",
              "    <tr>\n",
              "      <th>3</th>\n",
              "      <td>2.2</td>\n",
              "      <td>1376.0</td>\n",
              "      <td>80.0</td>\n",
              "      <td>9.2</td>\n",
              "      <td>948.0</td>\n",
              "      <td>172.0</td>\n",
              "      <td>1092.0</td>\n",
              "      <td>122.0</td>\n",
              "      <td>1584.0</td>\n",
              "      <td>1203.0</td>\n",
              "      <td>11.0</td>\n",
              "      <td>0.7867</td>\n",
              "      <td>21</td>\n",
              "      <td>3</td>\n",
              "    </tr>\n",
              "    <tr>\n",
              "      <th>4</th>\n",
              "      <td>1.6</td>\n",
              "      <td>1272.0</td>\n",
              "      <td>51.0</td>\n",
              "      <td>6.5</td>\n",
              "      <td>836.0</td>\n",
              "      <td>131.0</td>\n",
              "      <td>1205.0</td>\n",
              "      <td>116.0</td>\n",
              "      <td>1490.0</td>\n",
              "      <td>1110.0</td>\n",
              "      <td>11.2</td>\n",
              "      <td>0.7888</td>\n",
              "      <td>22</td>\n",
              "      <td>3</td>\n",
              "    </tr>\n",
              "    <tr>\n",
              "      <th>...</th>\n",
              "      <td>...</td>\n",
              "      <td>...</td>\n",
              "      <td>...</td>\n",
              "      <td>...</td>\n",
              "      <td>...</td>\n",
              "      <td>...</td>\n",
              "      <td>...</td>\n",
              "      <td>...</td>\n",
              "      <td>...</td>\n",
              "      <td>...</td>\n",
              "      <td>...</td>\n",
              "      <td>...</td>\n",
              "      <td>...</td>\n",
              "      <td>...</td>\n",
              "    </tr>\n",
              "    <tr>\n",
              "      <th>9351</th>\n",
              "      <td>3.1</td>\n",
              "      <td>1314.0</td>\n",
              "      <td>150.0</td>\n",
              "      <td>13.5</td>\n",
              "      <td>1101.0</td>\n",
              "      <td>472.0</td>\n",
              "      <td>539.0</td>\n",
              "      <td>190.0</td>\n",
              "      <td>1374.0</td>\n",
              "      <td>1729.0</td>\n",
              "      <td>21.9</td>\n",
              "      <td>0.7568</td>\n",
              "      <td>10</td>\n",
              "      <td>4</td>\n",
              "    </tr>\n",
              "    <tr>\n",
              "      <th>9352</th>\n",
              "      <td>2.4</td>\n",
              "      <td>1163.0</td>\n",
              "      <td>150.0</td>\n",
              "      <td>11.4</td>\n",
              "      <td>1027.0</td>\n",
              "      <td>353.0</td>\n",
              "      <td>604.0</td>\n",
              "      <td>179.0</td>\n",
              "      <td>1264.0</td>\n",
              "      <td>1269.0</td>\n",
              "      <td>24.3</td>\n",
              "      <td>0.7119</td>\n",
              "      <td>11</td>\n",
              "      <td>4</td>\n",
              "    </tr>\n",
              "    <tr>\n",
              "      <th>9353</th>\n",
              "      <td>2.4</td>\n",
              "      <td>1142.0</td>\n",
              "      <td>150.0</td>\n",
              "      <td>12.4</td>\n",
              "      <td>1063.0</td>\n",
              "      <td>293.0</td>\n",
              "      <td>603.0</td>\n",
              "      <td>175.0</td>\n",
              "      <td>1241.0</td>\n",
              "      <td>1092.0</td>\n",
              "      <td>26.9</td>\n",
              "      <td>0.6406</td>\n",
              "      <td>12</td>\n",
              "      <td>4</td>\n",
              "    </tr>\n",
              "    <tr>\n",
              "      <th>9354</th>\n",
              "      <td>2.1</td>\n",
              "      <td>1003.0</td>\n",
              "      <td>150.0</td>\n",
              "      <td>9.5</td>\n",
              "      <td>961.0</td>\n",
              "      <td>235.0</td>\n",
              "      <td>702.0</td>\n",
              "      <td>156.0</td>\n",
              "      <td>1041.0</td>\n",
              "      <td>770.0</td>\n",
              "      <td>28.3</td>\n",
              "      <td>0.5139</td>\n",
              "      <td>13</td>\n",
              "      <td>4</td>\n",
              "    </tr>\n",
              "    <tr>\n",
              "      <th>9355</th>\n",
              "      <td>2.2</td>\n",
              "      <td>1071.0</td>\n",
              "      <td>150.0</td>\n",
              "      <td>11.9</td>\n",
              "      <td>1047.0</td>\n",
              "      <td>265.0</td>\n",
              "      <td>654.0</td>\n",
              "      <td>168.0</td>\n",
              "      <td>1129.0</td>\n",
              "      <td>816.0</td>\n",
              "      <td>28.5</td>\n",
              "      <td>0.5028</td>\n",
              "      <td>14</td>\n",
              "      <td>4</td>\n",
              "    </tr>\n",
              "  </tbody>\n",
              "</table>\n",
              "<p>9356 rows × 14 columns</p>\n",
              "</div>"
            ],
            "text/plain": [
              "      CO(GT)  PT08.S1(CO)  NMHC(GT)  C6H6(GT)  ...     T      AH  Hour  Month\n",
              "0        2.6       1360.0     150.0      11.9  ...  13.6  0.7578    18      3\n",
              "1        2.0       1292.0     112.0       9.4  ...  13.3  0.7255    19      3\n",
              "2        2.2       1402.0      88.0       9.0  ...  11.9  0.7502    20      3\n",
              "3        2.2       1376.0      80.0       9.2  ...  11.0  0.7867    21      3\n",
              "4        1.6       1272.0      51.0       6.5  ...  11.2  0.7888    22      3\n",
              "...      ...          ...       ...       ...  ...   ...     ...   ...    ...\n",
              "9351     3.1       1314.0     150.0      13.5  ...  21.9  0.7568    10      4\n",
              "9352     2.4       1163.0     150.0      11.4  ...  24.3  0.7119    11      4\n",
              "9353     2.4       1142.0     150.0      12.4  ...  26.9  0.6406    12      4\n",
              "9354     2.1       1003.0     150.0       9.5  ...  28.3  0.5139    13      4\n",
              "9355     2.2       1071.0     150.0      11.9  ...  28.5  0.5028    14      4\n",
              "\n",
              "[9356 rows x 14 columns]"
            ]
          },
          "metadata": {
            "tags": []
          },
          "execution_count": 182
        }
      ]
    },
    {
      "cell_type": "code",
      "metadata": {
        "colab": {
          "base_uri": "https://localhost:8080/"
        },
        "id": "IMJVCtEs8w0W",
        "outputId": "de0b86d0-4450-4c52-8d58-aea322e943f2"
      },
      "source": [
        "y"
      ],
      "execution_count": null,
      "outputs": [
        {
          "output_type": "execute_result",
          "data": {
            "text/plain": [
              "0       48.9\n",
              "1       47.7\n",
              "2       54.0\n",
              "3       60.0\n",
              "4       59.6\n",
              "        ... \n",
              "9351    29.3\n",
              "9352    23.7\n",
              "9353    18.3\n",
              "9354    13.5\n",
              "9355    13.1\n",
              "Name: RH, Length: 9356, dtype: float64"
            ]
          },
          "metadata": {
            "tags": []
          },
          "execution_count": 183
        }
      ]
    },
    {
      "cell_type": "code",
      "metadata": {
        "colab": {
          "base_uri": "https://localhost:8080/",
          "height": 350
        },
        "id": "j5PuoXts9I9V",
        "outputId": "8bc13a2b-e224-49bb-9ec7-3424947afe3e"
      },
      "source": [
        "# Commented out IPython magic to ensure Python compatibility.\n",
        "# %matplotlib inline\n",
        "sns.distplot(y)"
      ],
      "execution_count": null,
      "outputs": [
        {
          "output_type": "stream",
          "text": [
            "/usr/local/lib/python3.6/dist-packages/seaborn/distributions.py:2551: FutureWarning: `distplot` is a deprecated function and will be removed in a future version. Please adapt your code to use either `displot` (a figure-level function with similar flexibility) or `histplot` (an axes-level function for histograms).\n",
            "  warnings.warn(msg, FutureWarning)\n"
          ],
          "name": "stderr"
        },
        {
          "output_type": "execute_result",
          "data": {
            "text/plain": [
              "<matplotlib.axes._subplots.AxesSubplot at 0x7fe1c3d4bc88>"
            ]
          },
          "metadata": {
            "tags": []
          },
          "execution_count": 184
        },
        {
          "output_type": "display_data",
          "data": {
            "image/png": "[encoded data removed]",
            "text/plain": [
              "<Figure size 432x288 with 1 Axes>"
            ]
          },
          "metadata": {
            "tags": [],
            "needs_background": "light"
          }
        }
      ]
    },
    {
      "cell_type": "code",
      "metadata": {
        "colab": {
          "base_uri": "https://localhost:8080/"
        },
        "id": "DzzIjYAm9JIa",
        "outputId": "4cf585ff-2f8b-42bd-c9f6-c523c3fe1c3c"
      },
      "source": [
        "np.log(y)"
      ],
      "execution_count": null,
      "outputs": [
        {
          "output_type": "execute_result",
          "data": {
            "text/plain": [
              "0       3.889777\n",
              "1       3.864931\n",
              "2       3.988984\n",
              "3       4.094345\n",
              "4       4.087656\n",
              "          ...   \n",
              "9351    3.377588\n",
              "9352    3.165475\n",
              "9353    2.906901\n",
              "9354    2.602690\n",
              "9355    2.572612\n",
              "Name: RH, Length: 9356, dtype: float64"
            ]
          },
          "metadata": {
            "tags": []
          },
          "execution_count": 185
        }
      ]
    },
    {
      "cell_type": "code",
      "metadata": {
        "colab": {
          "base_uri": "https://localhost:8080/",
          "height": 350
        },
        "id": "YRNlL8l-9JLk",
        "outputId": "779fc84b-78b5-4d72-dcd1-a18425a45def"
      },
      "source": [
        "sns.distplot(np.log(y))"
      ],
      "execution_count": null,
      "outputs": [
        {
          "output_type": "stream",
          "text": [
            "/usr/local/lib/python3.6/dist-packages/seaborn/distributions.py:2551: FutureWarning: `distplot` is a deprecated function and will be removed in a future version. Please adapt your code to use either `displot` (a figure-level function with similar flexibility) or `histplot` (an axes-level function for histograms).\n",
            "  warnings.warn(msg, FutureWarning)\n"
          ],
          "name": "stderr"
        },
        {
          "output_type": "execute_result",
          "data": {
            "text/plain": [
              "<matplotlib.axes._subplots.AxesSubplot at 0x7fe1c3daa2e8>"
            ]
          },
          "metadata": {
            "tags": []
          },
          "execution_count": 186
        },
        {
          "output_type": "display_data",
          "data": {
            "image/png": "[encoded data removed]",
            "text/plain": [
              "<Figure size 432x288 with 1 Axes>"
            ]
          },
          "metadata": {
            "tags": [],
            "needs_background": "light"
          }
        }
      ]
    },
    {
      "cell_type": "code",
      "metadata": {
        "id": "9GwFSMEF9JOo"
      },
      "source": [
        "#Random Forest Regression\n",
        "from sklearn.model_selection import train_test_split"
      ],
      "execution_count": null,
      "outputs": []
    },
    {
      "cell_type": "code",
      "metadata": {
        "id": "XJuhX1KN9JRc"
      },
      "source": [
        "X1_train, X1_test, y1_train, y1_test=train_test_split(X,y,test_size=0.3, random_state=0)"
      ],
      "execution_count": null,
      "outputs": []
    },
    {
      "cell_type": "code",
      "metadata": {
        "colab": {
          "base_uri": "https://localhost:8080/"
        },
        "id": "Sl9a-JRk9JU3",
        "outputId": "606a9b8a-0037-4bc4-80d3-f318daa0bf5f"
      },
      "source": [
        "print('Training data size:',X1_train.shape)\n",
        "print('Test data size:',X1_test.shape)"
      ],
      "execution_count": null,
      "outputs": [
        {
          "output_type": "stream",
          "text": [
            "Training data size: (6549, 14)\n",
            "Test data size: (2807, 14)\n"
          ],
          "name": "stdout"
        }
      ]
    },
    {
      "cell_type": "code",
      "metadata": {
        "id": "k9aj3It39JXD"
      },
      "source": [
        "from sklearn.ensemble import RandomForestRegressor"
      ],
      "execution_count": null,
      "outputs": []
    },
    {
      "cell_type": "code",
      "metadata": {
        "id": "0PqFDQ2a9JZ-"
      },
      "source": [
        "RF=RandomForestRegressor(n_estimators=100)"
      ],
      "execution_count": null,
      "outputs": []
    },
    {
      "cell_type": "code",
      "metadata": {
        "colab": {
          "base_uri": "https://localhost:8080/"
        },
        "id": "QXBwZkYb9Jcm",
        "outputId": "039b42e2-d878-43cf-d2e7-b0ec2b40a93a"
      },
      "source": [
        "RF.fit(X1_train,y1_train)"
      ],
      "execution_count": null,
      "outputs": [
        {
          "output_type": "execute_result",
          "data": {
            "text/plain": [
              "RandomForestRegressor(bootstrap=True, ccp_alpha=0.0, criterion='mse',\n",
              "                      max_depth=None, max_features='auto', max_leaf_nodes=None,\n",
              "                      max_samples=None, min_impurity_decrease=0.0,\n",
              "                      min_impurity_split=None, min_samples_leaf=1,\n",
              "                      min_samples_split=2, min_weight_fraction_leaf=0.0,\n",
              "                      n_estimators=100, n_jobs=None, oob_score=False,\n",
              "                      random_state=None, verbose=0, warm_start=False)"
            ]
          },
          "metadata": {
            "tags": []
          },
          "execution_count": 192
        }
      ]
    },
    {
      "cell_type": "code",
      "metadata": {
        "colab": {
          "base_uri": "https://localhost:8080/"
        },
        "id": "fj0BLCHg9Jfv",
        "outputId": "900f1298-88cf-49e9-e0ce-46bd44ccf3ef"
      },
      "source": [
        "RF.score(X,y)"
      ],
      "execution_count": null,
      "outputs": [
        {
          "output_type": "execute_result",
          "data": {
            "text/plain": [
              "0.9993739201500597"
            ]
          },
          "metadata": {
            "tags": []
          },
          "execution_count": 193
        }
      ]
    },
    {
      "cell_type": "code",
      "metadata": {
        "colab": {
          "base_uri": "https://localhost:8080/"
        },
        "id": "HTsx5Wk39Jiu",
        "outputId": "11b832e4-aaba-4817-801d-90503d9ba31f"
      },
      "source": [
        "RF.score(X1_test,y1_test)"
      ],
      "execution_count": null,
      "outputs": [
        {
          "output_type": "execute_result",
          "data": {
            "text/plain": [
              "0.9984678468358448"
            ]
          },
          "metadata": {
            "tags": []
          },
          "execution_count": 194
        }
      ]
    },
    {
      "cell_type": "code",
      "metadata": {
        "colab": {
          "base_uri": "https://localhost:8080/"
        },
        "id": "LLM5CUkX9JlQ",
        "outputId": "1c8a5b26-a029-4859-8eda-00fca7f25522"
      },
      "source": [
        "RF.score(X1_train,y1_train)"
      ],
      "execution_count": null,
      "outputs": [
        {
          "output_type": "execute_result",
          "data": {
            "text/plain": [
              "0.9997779905565662"
            ]
          },
          "metadata": {
            "tags": []
          },
          "execution_count": 195
        }
      ]
    },
    {
      "cell_type": "code",
      "metadata": {
        "id": "473v3oSm9JoK"
      },
      "source": [
        "from sklearn.model_selection import cross_val_score,KFold\n",
        "kfold=KFold(n_splits=10)\n",
        "score=cross_val_score(RF,X,y,cv=kfold)\n"
      ],
      "execution_count": null,
      "outputs": []
    },
    {
      "cell_type": "code",
      "metadata": {
        "colab": {
          "base_uri": "https://localhost:8080/"
        },
        "id": "K4pXgxZH9zCx",
        "outputId": "b33628d0-3b92-4c08-faef-722423cc3735"
      },
      "source": [
        "score"
      ],
      "execution_count": null,
      "outputs": [
        {
          "output_type": "execute_result",
          "data": {
            "text/plain": [
              "array([0.99875156, 0.99771703, 0.99915749, 0.99559061, 0.99855357,\n",
              "       0.99343927, 0.99528696, 0.99752096, 0.99001269, 0.99006649])"
            ]
          },
          "metadata": {
            "tags": []
          },
          "execution_count": 197
        }
      ]
    },
    {
      "cell_type": "code",
      "metadata": {
        "colab": {
          "base_uri": "https://localhost:8080/"
        },
        "id": "lEns1q8K-Kvw",
        "outputId": "1c84994f-df7e-4613-8ebf-00af91ae4830"
      },
      "source": [
        "score.mean()"
      ],
      "execution_count": null,
      "outputs": [
        {
          "output_type": "execute_result",
          "data": {
            "text/plain": [
              "0.9956096625331343"
            ]
          },
          "metadata": {
            "tags": []
          },
          "execution_count": 198
        }
      ]
    },
    {
      "cell_type": "code",
      "metadata": {
        "id": "5if-J1fK-K8u"
      },
      "source": [
        "\n",
        "pred = RF.predict(X1_test)"
      ],
      "execution_count": null,
      "outputs": []
    },
    {
      "cell_type": "code",
      "metadata": {
        "colab": {
          "base_uri": "https://localhost:8080/"
        },
        "id": "3yS2vec2-LAu",
        "outputId": "24d9ed68-6ba2-41c7-c34e-a1ff644aeccb"
      },
      "source": [
        "pred"
      ],
      "execution_count": null,
      "outputs": [
        {
          "output_type": "execute_result",
          "data": {
            "text/plain": [
              "array([32.152, 44.879, 45.942, ..., 58.359, 63.155, 80.902])"
            ]
          },
          "metadata": {
            "tags": []
          },
          "execution_count": 202
        }
      ]
    },
    {
      "cell_type": "code",
      "metadata": {
        "colab": {
          "base_uri": "https://localhost:8080/",
          "height": 282
        },
        "id": "quX7yGbP-LDy",
        "outputId": "da2b013b-c03d-430e-f081-6ac8a9dbf55b"
      },
      "source": [
        "plt.scatter(y1_test,pred)"
      ],
      "execution_count": null,
      "outputs": [
        {
          "output_type": "execute_result",
          "data": {
            "text/plain": [
              "<matplotlib.collections.PathCollection at 0x7fe1c3d675c0>"
            ]
          },
          "metadata": {
            "tags": []
          },
          "execution_count": 203
        },
        {
          "output_type": "display_data",
          "data": {
            "image/png": "[encoded data removed]",
            "text/plain": [
              "<Figure size 432x288 with 1 Axes>"
            ]
          },
          "metadata": {
            "tags": [],
            "needs_background": "light"
          }
        }
      ]
    },
    {
      "cell_type": "code",
      "metadata": {
        "id": "C-gb8HQ--LHL"
      },
      "source": [
        "from sklearn.metrics import mean_squared_error\n",
        "from math import sqrt"
      ],
      "execution_count": null,
      "outputs": []
    },
    {
      "cell_type": "code",
      "metadata": {
        "colab": {
          "base_uri": "https://localhost:8080/"
        },
        "id": "dvN8PQ3b-yDv",
        "outputId": "aab091b0-91b9-40d2-d6df-d04c0933f4a0"
      },
      "source": [
        "print('MSE:', metrics.mean_squared_error(y1_test, pred))\n",
        "print('MAE:',metrics.mean_absolute_error(y1_test, pred))\n",
        "print('RMSE:',np.sqrt(metrics.mean_squared_error(y1_test, pred)))"
      ],
      "execution_count": null,
      "outputs": [
        {
          "output_type": "stream",
          "text": [
            "MSE: 0.45387000062344224\n",
            "MAE: 0.41758478802992827\n",
            "RMSE: 0.6736987461940553\n"
          ],
          "name": "stdout"
        }
      ]
    },
    {
      "cell_type": "code",
      "metadata": {
        "colab": {
          "base_uri": "https://localhost:8080/"
        },
        "id": "vMXiMdu7-yHF",
        "outputId": "72e6d501-3776-4542-ee51-b1e134291bd2"
      },
      "source": [
        "error=np.exp(rms)\n",
        "error"
      ],
      "execution_count": null,
      "outputs": [
        {
          "output_type": "execute_result",
          "data": {
            "text/plain": [
              "1.9614789326745334"
            ]
          },
          "metadata": {
            "tags": []
          },
          "execution_count": 206
        }
      ]
    },
    {
      "cell_type": "code",
      "metadata": {
        "colab": {
          "base_uri": "https://localhost:8080/"
        },
        "id": "K7NfO-IT-yJ1",
        "outputId": "084a81a3-b323-443f-8840-7fc85d59c934"
      },
      "source": [
        "import statsmodels.api as sm"
      ],
      "execution_count": null,
      "outputs": [
        {
          "output_type": "stream",
          "text": [
            "/usr/local/lib/python3.6/dist-packages/statsmodels/tools/_testing.py:19: FutureWarning: pandas.util.testing is deprecated. Use the functions in the public API at pandas.testing instead.\n",
            "  import pandas.util.testing as tm\n"
          ],
          "name": "stderr"
        }
      ]
    },
    {
      "cell_type": "code",
      "metadata": {
        "colab": {
          "base_uri": "https://localhost:8080/",
          "height": 284
        },
        "id": "XIYvWopH-yM1",
        "outputId": "be5a9e81-2112-4854-eeb0-cf1756d7b087"
      },
      "source": [
        "X.head(8)"
      ],
      "execution_count": null,
      "outputs": [
        {
          "output_type": "execute_result",
          "data": {
            "text/html": [
              "<div>\n",
              "<style scoped>\n",
              "    .dataframe tbody tr th:only-of-type {\n",
              "        vertical-align: middle;\n",
              "    }\n",
              "\n",
              "    .dataframe tbody tr th {\n",
              "        vertical-align: top;\n",
              "    }\n",
              "\n",
              "    .dataframe thead th {\n",
              "        text-align: right;\n",
              "    }\n",
              "</style>\n",
              "<table border=\"1\" class=\"dataframe\">\n",
              "  <thead>\n",
              "    <tr style=\"text-align: right;\">\n",
              "      <th></th>\n",
              "      <th>CO(GT)</th>\n",
              "      <th>PT08.S1(CO)</th>\n",
              "      <th>NMHC(GT)</th>\n",
              "      <th>C6H6(GT)</th>\n",
              "      <th>PT08.S2(NMHC)</th>\n",
              "      <th>NOx(GT)</th>\n",
              "      <th>PT08.S3(NOx)</th>\n",
              "      <th>NO2(GT)</th>\n",
              "      <th>PT08.S4(NO2)</th>\n",
              "      <th>PT08.S5(O3)</th>\n",
              "      <th>T</th>\n",
              "      <th>AH</th>\n",
              "      <th>Hour</th>\n",
              "      <th>Month</th>\n",
              "    </tr>\n",
              "  </thead>\n",
              "  <tbody>\n",
              "    <tr>\n",
              "      <th>0</th>\n",
              "      <td>2.6</td>\n",
              "      <td>1360.0</td>\n",
              "      <td>150.0</td>\n",
              "      <td>11.9</td>\n",
              "      <td>1046.0</td>\n",
              "      <td>166.0</td>\n",
              "      <td>1056.0</td>\n",
              "      <td>113.0</td>\n",
              "      <td>1692.0</td>\n",
              "      <td>1268.0</td>\n",
              "      <td>13.6</td>\n",
              "      <td>0.7578</td>\n",
              "      <td>18</td>\n",
              "      <td>3</td>\n",
              "    </tr>\n",
              "    <tr>\n",
              "      <th>1</th>\n",
              "      <td>2.0</td>\n",
              "      <td>1292.0</td>\n",
              "      <td>112.0</td>\n",
              "      <td>9.4</td>\n",
              "      <td>955.0</td>\n",
              "      <td>103.0</td>\n",
              "      <td>1174.0</td>\n",
              "      <td>92.0</td>\n",
              "      <td>1559.0</td>\n",
              "      <td>972.0</td>\n",
              "      <td>13.3</td>\n",
              "      <td>0.7255</td>\n",
              "      <td>19</td>\n",
              "      <td>3</td>\n",
              "    </tr>\n",
              "    <tr>\n",
              "      <th>2</th>\n",
              "      <td>2.2</td>\n",
              "      <td>1402.0</td>\n",
              "      <td>88.0</td>\n",
              "      <td>9.0</td>\n",
              "      <td>939.0</td>\n",
              "      <td>131.0</td>\n",
              "      <td>1140.0</td>\n",
              "      <td>114.0</td>\n",
              "      <td>1555.0</td>\n",
              "      <td>1074.0</td>\n",
              "      <td>11.9</td>\n",
              "      <td>0.7502</td>\n",
              "      <td>20</td>\n",
              "      <td>3</td>\n",
              "    </tr>\n",
              "    <tr>\n",
              "      <th>3</th>\n",
              "      <td>2.2</td>\n",
              "      <td>1376.0</td>\n",
              "      <td>80.0</td>\n",
              "      <td>9.2</td>\n",
              "      <td>948.0</td>\n",
              "      <td>172.0</td>\n",
              "      <td>1092.0</td>\n",
              "      <td>122.0</td>\n",
              "      <td>1584.0</td>\n",
              "      <td>1203.0</td>\n",
              "      <td>11.0</td>\n",
              "      <td>0.7867</td>\n",
              "      <td>21</td>\n",
              "      <td>3</td>\n",
              "    </tr>\n",
              "    <tr>\n",
              "      <th>4</th>\n",
              "      <td>1.6</td>\n",
              "      <td>1272.0</td>\n",
              "      <td>51.0</td>\n",
              "      <td>6.5</td>\n",
              "      <td>836.0</td>\n",
              "      <td>131.0</td>\n",
              "      <td>1205.0</td>\n",
              "      <td>116.0</td>\n",
              "      <td>1490.0</td>\n",
              "      <td>1110.0</td>\n",
              "      <td>11.2</td>\n",
              "      <td>0.7888</td>\n",
              "      <td>22</td>\n",
              "      <td>3</td>\n",
              "    </tr>\n",
              "    <tr>\n",
              "      <th>5</th>\n",
              "      <td>1.2</td>\n",
              "      <td>1197.0</td>\n",
              "      <td>38.0</td>\n",
              "      <td>4.7</td>\n",
              "      <td>750.0</td>\n",
              "      <td>89.0</td>\n",
              "      <td>1337.0</td>\n",
              "      <td>96.0</td>\n",
              "      <td>1393.0</td>\n",
              "      <td>949.0</td>\n",
              "      <td>11.2</td>\n",
              "      <td>0.7848</td>\n",
              "      <td>23</td>\n",
              "      <td>3</td>\n",
              "    </tr>\n",
              "    <tr>\n",
              "      <th>6</th>\n",
              "      <td>1.2</td>\n",
              "      <td>1185.0</td>\n",
              "      <td>31.0</td>\n",
              "      <td>3.6</td>\n",
              "      <td>690.0</td>\n",
              "      <td>62.0</td>\n",
              "      <td>1462.0</td>\n",
              "      <td>77.0</td>\n",
              "      <td>1333.0</td>\n",
              "      <td>733.0</td>\n",
              "      <td>11.3</td>\n",
              "      <td>0.7603</td>\n",
              "      <td>0</td>\n",
              "      <td>3</td>\n",
              "    </tr>\n",
              "    <tr>\n",
              "      <th>7</th>\n",
              "      <td>1.0</td>\n",
              "      <td>1136.0</td>\n",
              "      <td>31.0</td>\n",
              "      <td>3.3</td>\n",
              "      <td>672.0</td>\n",
              "      <td>62.0</td>\n",
              "      <td>1453.0</td>\n",
              "      <td>76.0</td>\n",
              "      <td>1333.0</td>\n",
              "      <td>730.0</td>\n",
              "      <td>10.7</td>\n",
              "      <td>0.7702</td>\n",
              "      <td>1</td>\n",
              "      <td>3</td>\n",
              "    </tr>\n",
              "  </tbody>\n",
              "</table>\n",
              "</div>"
            ],
            "text/plain": [
              "   CO(GT)  PT08.S1(CO)  NMHC(GT)  C6H6(GT)  ...     T      AH  Hour  Month\n",
              "0     2.6       1360.0     150.0      11.9  ...  13.6  0.7578    18      3\n",
              "1     2.0       1292.0     112.0       9.4  ...  13.3  0.7255    19      3\n",
              "2     2.2       1402.0      88.0       9.0  ...  11.9  0.7502    20      3\n",
              "3     2.2       1376.0      80.0       9.2  ...  11.0  0.7867    21      3\n",
              "4     1.6       1272.0      51.0       6.5  ...  11.2  0.7888    22      3\n",
              "5     1.2       1197.0      38.0       4.7  ...  11.2  0.7848    23      3\n",
              "6     1.2       1185.0      31.0       3.6  ...  11.3  0.7603     0      3\n",
              "7     1.0       1136.0      31.0       3.3  ...  10.7  0.7702     1      3\n",
              "\n",
              "[8 rows x 14 columns]"
            ]
          },
          "metadata": {
            "tags": []
          },
          "execution_count": 208
        }
      ]
    },
    {
      "cell_type": "code",
      "metadata": {
        "colab": {
          "base_uri": "https://localhost:8080/"
        },
        "id": "zuJKwBMU-yPu",
        "outputId": "92533699-d6fb-43d3-fa91-9f088bc8c389"
      },
      "source": [
        "X_opt = X.values\n",
        "X_opt"
      ],
      "execution_count": null,
      "outputs": [
        {
          "output_type": "execute_result",
          "data": {
            "text/plain": [
              "array([[2.600e+00, 1.360e+03, 1.500e+02, ..., 7.578e-01, 1.800e+01,\n",
              "        3.000e+00],\n",
              "       [2.000e+00, 1.292e+03, 1.120e+02, ..., 7.255e-01, 1.900e+01,\n",
              "        3.000e+00],\n",
              "       [2.200e+00, 1.402e+03, 8.800e+01, ..., 7.502e-01, 2.000e+01,\n",
              "        3.000e+00],\n",
              "       ...,\n",
              "       [2.400e+00, 1.142e+03, 1.500e+02, ..., 6.406e-01, 1.200e+01,\n",
              "        4.000e+00],\n",
              "       [2.100e+00, 1.003e+03, 1.500e+02, ..., 5.139e-01, 1.300e+01,\n",
              "        4.000e+00],\n",
              "       [2.200e+00, 1.071e+03, 1.500e+02, ..., 5.028e-01, 1.400e+01,\n",
              "        4.000e+00]])"
            ]
          },
          "metadata": {
            "tags": []
          },
          "execution_count": 209
        }
      ]
    },
    {
      "cell_type": "code",
      "metadata": {
        "colab": {
          "base_uri": "https://localhost:8080/",
          "height": 699
        },
        "id": "nmdCrU67-ySg",
        "outputId": "e106f97e-718f-4579-e0d9-e46c7013b185"
      },
      "source": [
        "regressor_OLS = sm.OLS(endog=y, exog=X_opt).fit()\n",
        "regressor_OLS.summary()"
      ],
      "execution_count": null,
      "outputs": [
        {
          "output_type": "execute_result",
          "data": {
            "text/html": [
              "<table class=\"simpletable\">\n",
              "<caption>OLS Regression Results</caption>\n",
              "<tr>\n",
              "  <th>Dep. Variable:</th>           <td>RH</td>        <th>  R-squared (uncentered):</th>      <td>   0.987</td> \n",
              "</tr>\n",
              "<tr>\n",
              "  <th>Model:</th>                   <td>OLS</td>       <th>  Adj. R-squared (uncentered):</th> <td>   0.987</td> \n",
              "</tr>\n",
              "<tr>\n",
              "  <th>Method:</th>             <td>Least Squares</td>  <th>  F-statistic:       </th>          <td>4.954e+04</td>\n",
              "</tr>\n",
              "<tr>\n",
              "  <th>Date:</th>             <td>Thu, 03 Dec 2020</td> <th>  Prob (F-statistic):</th>           <td>  0.00</td>  \n",
              "</tr>\n",
              "<tr>\n",
              "  <th>Time:</th>                 <td>09:43:48</td>     <th>  Log-Likelihood:    </th>          <td> -30048.</td> \n",
              "</tr>\n",
              "<tr>\n",
              "  <th>No. Observations:</th>      <td>  9356</td>      <th>  AIC:               </th>          <td>6.012e+04</td>\n",
              "</tr>\n",
              "<tr>\n",
              "  <th>Df Residuals:</th>          <td>  9342</td>      <th>  BIC:               </th>          <td>6.022e+04</td>\n",
              "</tr>\n",
              "<tr>\n",
              "  <th>Df Model:</th>              <td>    14</td>      <th>                     </th>              <td> </td>    \n",
              "</tr>\n",
              "<tr>\n",
              "  <th>Covariance Type:</th>      <td>nonrobust</td>    <th>                     </th>              <td> </td>    \n",
              "</tr>\n",
              "</table>\n",
              "<table class=\"simpletable\">\n",
              "<tr>\n",
              "   <td></td>      <th>coef</th>     <th>std err</th>      <th>t</th>      <th>P>|t|</th>  <th>[0.025</th>    <th>0.975]</th>  \n",
              "</tr>\n",
              "<tr>\n",
              "  <th>x1</th>  <td>   -0.8067</td> <td>    0.113</td> <td>   -7.137</td> <td> 0.000</td> <td>   -1.028</td> <td>   -0.585</td>\n",
              "</tr>\n",
              "<tr>\n",
              "  <th>x2</th>  <td>    0.0228</td> <td>    0.001</td> <td>   27.300</td> <td> 0.000</td> <td>    0.021</td> <td>    0.024</td>\n",
              "</tr>\n",
              "<tr>\n",
              "  <th>x3</th>  <td>   -0.0031</td> <td>    0.001</td> <td>   -2.990</td> <td> 0.003</td> <td>   -0.005</td> <td>   -0.001</td>\n",
              "</tr>\n",
              "<tr>\n",
              "  <th>x4</th>  <td>   -1.5499</td> <td>    0.037</td> <td>  -42.251</td> <td> 0.000</td> <td>   -1.622</td> <td>   -1.478</td>\n",
              "</tr>\n",
              "<tr>\n",
              "  <th>x5</th>  <td>    0.0274</td> <td>    0.001</td> <td>   19.242</td> <td> 0.000</td> <td>    0.025</td> <td>    0.030</td>\n",
              "</tr>\n",
              "<tr>\n",
              "  <th>x6</th>  <td>    0.0122</td> <td>    0.001</td> <td>   15.612</td> <td> 0.000</td> <td>    0.011</td> <td>    0.014</td>\n",
              "</tr>\n",
              "<tr>\n",
              "  <th>x7</th>  <td>    0.0075</td> <td>    0.000</td> <td>   20.940</td> <td> 0.000</td> <td>    0.007</td> <td>    0.008</td>\n",
              "</tr>\n",
              "<tr>\n",
              "  <th>x8</th>  <td>   -0.0096</td> <td>    0.003</td> <td>   -3.451</td> <td> 0.001</td> <td>   -0.015</td> <td>   -0.004</td>\n",
              "</tr>\n",
              "<tr>\n",
              "  <th>x9</th>  <td>    0.0128</td> <td>    0.001</td> <td>   18.448</td> <td> 0.000</td> <td>    0.011</td> <td>    0.014</td>\n",
              "</tr>\n",
              "<tr>\n",
              "  <th>x10</th> <td>   -0.0039</td> <td>    0.000</td> <td>   -8.195</td> <td> 0.000</td> <td>   -0.005</td> <td>   -0.003</td>\n",
              "</tr>\n",
              "<tr>\n",
              "  <th>x11</th> <td>   -2.3419</td> <td>    0.013</td> <td> -184.713</td> <td> 0.000</td> <td>   -2.367</td> <td>   -2.317</td>\n",
              "</tr>\n",
              "<tr>\n",
              "  <th>x12</th> <td>   34.6709</td> <td>    0.386</td> <td>   89.727</td> <td> 0.000</td> <td>   33.913</td> <td>   35.428</td>\n",
              "</tr>\n",
              "<tr>\n",
              "  <th>x13</th> <td>   -0.1319</td> <td>    0.011</td> <td>  -12.209</td> <td> 0.000</td> <td>   -0.153</td> <td>   -0.111</td>\n",
              "</tr>\n",
              "<tr>\n",
              "  <th>x14</th> <td>    0.3706</td> <td>    0.025</td> <td>   14.605</td> <td> 0.000</td> <td>    0.321</td> <td>    0.420</td>\n",
              "</tr>\n",
              "</table>\n",
              "<table class=\"simpletable\">\n",
              "<tr>\n",
              "  <th>Omnibus:</th>       <td>384.332</td> <th>  Durbin-Watson:     </th> <td>   0.158</td> \n",
              "</tr>\n",
              "<tr>\n",
              "  <th>Prob(Omnibus):</th> <td> 0.000</td>  <th>  Jarque-Bera (JB):  </th> <td> 460.344</td> \n",
              "</tr>\n",
              "<tr>\n",
              "  <th>Skew:</th>          <td> 0.466</td>  <th>  Prob(JB):          </th> <td>1.09e-100</td>\n",
              "</tr>\n",
              "<tr>\n",
              "  <th>Kurtosis:</th>      <td> 3.558</td>  <th>  Cond. No.          </th> <td>1.56e+04</td> \n",
              "</tr>\n",
              "</table><br/><br/>Warnings:<br/>[1] Standard Errors assume that the covariance matrix of the errors is correctly specified.<br/>[2] The condition number is large, 1.56e+04. This might indicate that there are<br/>strong multicollinearity or other numerical problems."
            ],
            "text/plain": [
              "<class 'statsmodels.iolib.summary.Summary'>\n",
              "\"\"\"\n",
              "                                 OLS Regression Results                                \n",
              "=======================================================================================\n",
              "Dep. Variable:                     RH   R-squared (uncentered):                   0.987\n",
              "Model:                            OLS   Adj. R-squared (uncentered):              0.987\n",
              "Method:                 Least Squares   F-statistic:                          4.954e+04\n",
              "Date:                Thu, 03 Dec 2020   Prob (F-statistic):                        0.00\n",
              "Time:                        09:43:48   Log-Likelihood:                         -30048.\n",
              "No. Observations:                9356   AIC:                                  6.012e+04\n",
              "Df Residuals:                    9342   BIC:                                  6.022e+04\n",
              "Df Model:                          14                                                  \n",
              "Covariance Type:            nonrobust                                                  \n",
              "==============================================================================\n",
              "                 coef    std err          t      P>|t|      [0.025      0.975]\n",
              "------------------------------------------------------------------------------\n",
              "x1            -0.8067      0.113     -7.137      0.000      -1.028      -0.585\n",
              "x2             0.0228      0.001     27.300      0.000       0.021       0.024\n",
              "x3            -0.0031      0.001     -2.990      0.003      -0.005      -0.001\n",
              "x4            -1.5499      0.037    -42.251      0.000      -1.622      -1.478\n",
              "x5             0.0274      0.001     19.242      0.000       0.025       0.030\n",
              "x6             0.0122      0.001     15.612      0.000       0.011       0.014\n",
              "x7             0.0075      0.000     20.940      0.000       0.007       0.008\n",
              "x8            -0.0096      0.003     -3.451      0.001      -0.015      -0.004\n",
              "x9             0.0128      0.001     18.448      0.000       0.011       0.014\n",
              "x10           -0.0039      0.000     -8.195      0.000      -0.005      -0.003\n",
              "x11           -2.3419      0.013   -184.713      0.000      -2.367      -2.317\n",
              "x12           34.6709      0.386     89.727      0.000      33.913      35.428\n",
              "x13           -0.1319      0.011    -12.209      0.000      -0.153      -0.111\n",
              "x14            0.3706      0.025     14.605      0.000       0.321       0.420\n",
              "==============================================================================\n",
              "Omnibus:                      384.332   Durbin-Watson:                   0.158\n",
              "Prob(Omnibus):                  0.000   Jarque-Bera (JB):              460.344\n",
              "Skew:                           0.466   Prob(JB):                    1.09e-100\n",
              "Kurtosis:                       3.558   Cond. No.                     1.56e+04\n",
              "==============================================================================\n",
              "\n",
              "Warnings:\n",
              "[1] Standard Errors assume that the covariance matrix of the errors is correctly specified.\n",
              "[2] The condition number is large, 1.56e+04. This might indicate that there are\n",
              "strong multicollinearity or other numerical problems.\n",
              "\"\"\""
            ]
          },
          "metadata": {
            "tags": []
          },
          "execution_count": 210
        }
      ]
    },
    {
      "cell_type": "code",
      "metadata": {
        "colab": {
          "base_uri": "https://localhost:8080/",
          "height": 679
        },
        "id": "9jONUXNe-yVg",
        "outputId": "29431c1d-b114-4b55-b3ae-e5632fe54dd5"
      },
      "source": [
        "X_opt = X_opt[:,[0,1,2,4,5,6,7,8,9,10,11,12,13]]\n",
        "regressor_OLS = sm.OLS(endog=y, exog=X_opt).fit()\n",
        "regressor_OLS.summary()"
      ],
      "execution_count": null,
      "outputs": [
        {
          "output_type": "execute_result",
          "data": {
            "text/html": [
              "<table class=\"simpletable\">\n",
              "<caption>OLS Regression Results</caption>\n",
              "<tr>\n",
              "  <th>Dep. Variable:</th>           <td>RH</td>        <th>  R-squared (uncentered):</th>      <td>   0.984</td> \n",
              "</tr>\n",
              "<tr>\n",
              "  <th>Model:</th>                   <td>OLS</td>       <th>  Adj. R-squared (uncentered):</th> <td>   0.984</td> \n",
              "</tr>\n",
              "<tr>\n",
              "  <th>Method:</th>             <td>Least Squares</td>  <th>  F-statistic:       </th>          <td>4.468e+04</td>\n",
              "</tr>\n",
              "<tr>\n",
              "  <th>Date:</th>             <td>Thu, 03 Dec 2020</td> <th>  Prob (F-statistic):</th>           <td>  0.00</td>  \n",
              "</tr>\n",
              "<tr>\n",
              "  <th>Time:</th>                 <td>09:44:44</td>     <th>  Log-Likelihood:    </th>          <td> -30866.</td> \n",
              "</tr>\n",
              "<tr>\n",
              "  <th>No. Observations:</th>      <td>  9356</td>      <th>  AIC:               </th>          <td>6.176e+04</td>\n",
              "</tr>\n",
              "<tr>\n",
              "  <th>Df Residuals:</th>          <td>  9343</td>      <th>  BIC:               </th>          <td>6.185e+04</td>\n",
              "</tr>\n",
              "<tr>\n",
              "  <th>Df Model:</th>              <td>    13</td>      <th>                     </th>              <td> </td>    \n",
              "</tr>\n",
              "<tr>\n",
              "  <th>Covariance Type:</th>      <td>nonrobust</td>    <th>                     </th>              <td> </td>    \n",
              "</tr>\n",
              "</table>\n",
              "<table class=\"simpletable\">\n",
              "<tr>\n",
              "   <td></td>      <th>coef</th>     <th>std err</th>      <th>t</th>      <th>P>|t|</th>  <th>[0.025</th>    <th>0.975]</th>  \n",
              "</tr>\n",
              "<tr>\n",
              "  <th>x1</th>  <td>   -2.3014</td> <td>    0.117</td> <td>  -19.645</td> <td> 0.000</td> <td>   -2.531</td> <td>   -2.072</td>\n",
              "</tr>\n",
              "<tr>\n",
              "  <th>x2</th>  <td>    0.0340</td> <td>    0.001</td> <td>   39.389</td> <td> 0.000</td> <td>    0.032</td> <td>    0.036</td>\n",
              "</tr>\n",
              "<tr>\n",
              "  <th>x3</th>  <td>    0.0001</td> <td>    0.001</td> <td>    0.117</td> <td> 0.907</td> <td>   -0.002</td> <td>    0.002</td>\n",
              "</tr>\n",
              "<tr>\n",
              "  <th>x4</th>  <td>   -0.0106</td> <td>    0.001</td> <td>   -8.770</td> <td> 0.000</td> <td>   -0.013</td> <td>   -0.008</td>\n",
              "</tr>\n",
              "<tr>\n",
              "  <th>x5</th>  <td>    0.0083</td> <td>    0.001</td> <td>    9.843</td> <td> 0.000</td> <td>    0.007</td> <td>    0.010</td>\n",
              "</tr>\n",
              "<tr>\n",
              "  <th>x6</th>  <td>    0.0149</td> <td>    0.000</td> <td>   43.379</td> <td> 0.000</td> <td>    0.014</td> <td>    0.016</td>\n",
              "</tr>\n",
              "<tr>\n",
              "  <th>x7</th>  <td>    0.0391</td> <td>    0.003</td> <td>   14.199</td> <td> 0.000</td> <td>    0.034</td> <td>    0.045</td>\n",
              "</tr>\n",
              "<tr>\n",
              "  <th>x8</th>  <td>    0.0093</td> <td>    0.001</td> <td>   12.294</td> <td> 0.000</td> <td>    0.008</td> <td>    0.011</td>\n",
              "</tr>\n",
              "<tr>\n",
              "  <th>x9</th>  <td>   -0.0047</td> <td>    0.001</td> <td>   -8.924</td> <td> 0.000</td> <td>   -0.006</td> <td>   -0.004</td>\n",
              "</tr>\n",
              "<tr>\n",
              "  <th>x10</th> <td>   -2.3035</td> <td>    0.014</td> <td> -166.911</td> <td> 0.000</td> <td>   -2.331</td> <td>   -2.276</td>\n",
              "</tr>\n",
              "<tr>\n",
              "  <th>x11</th> <td>   37.9881</td> <td>    0.413</td> <td>   92.005</td> <td> 0.000</td> <td>   37.179</td> <td>   38.797</td>\n",
              "</tr>\n",
              "<tr>\n",
              "  <th>x12</th> <td>   -0.0810</td> <td>    0.012</td> <td>   -6.917</td> <td> 0.000</td> <td>   -0.104</td> <td>   -0.058</td>\n",
              "</tr>\n",
              "<tr>\n",
              "  <th>x13</th> <td>    0.4973</td> <td>    0.027</td> <td>   18.084</td> <td> 0.000</td> <td>    0.443</td> <td>    0.551</td>\n",
              "</tr>\n",
              "</table>\n",
              "<table class=\"simpletable\">\n",
              "<tr>\n",
              "  <th>Omnibus:</th>       <td>92.726</td> <th>  Durbin-Watson:     </th> <td>   0.174</td>\n",
              "</tr>\n",
              "<tr>\n",
              "  <th>Prob(Omnibus):</th> <td> 0.000</td> <th>  Jarque-Bera (JB):  </th> <td> 117.798</td>\n",
              "</tr>\n",
              "<tr>\n",
              "  <th>Skew:</th>          <td> 0.159</td> <th>  Prob(JB):          </th> <td>2.63e-26</td>\n",
              "</tr>\n",
              "<tr>\n",
              "  <th>Kurtosis:</th>      <td> 3.448</td> <th>  Cond. No.          </th> <td>1.53e+04</td>\n",
              "</tr>\n",
              "</table><br/><br/>Warnings:<br/>[1] Standard Errors assume that the covariance matrix of the errors is correctly specified.<br/>[2] The condition number is large, 1.53e+04. This might indicate that there are<br/>strong multicollinearity or other numerical problems."
            ],
            "text/plain": [
              "<class 'statsmodels.iolib.summary.Summary'>\n",
              "\"\"\"\n",
              "                                 OLS Regression Results                                \n",
              "=======================================================================================\n",
              "Dep. Variable:                     RH   R-squared (uncentered):                   0.984\n",
              "Model:                            OLS   Adj. R-squared (uncentered):              0.984\n",
              "Method:                 Least Squares   F-statistic:                          4.468e+04\n",
              "Date:                Thu, 03 Dec 2020   Prob (F-statistic):                        0.00\n",
              "Time:                        09:44:44   Log-Likelihood:                         -30866.\n",
              "No. Observations:                9356   AIC:                                  6.176e+04\n",
              "Df Residuals:                    9343   BIC:                                  6.185e+04\n",
              "Df Model:                          13                                                  \n",
              "Covariance Type:            nonrobust                                                  \n",
              "==============================================================================\n",
              "                 coef    std err          t      P>|t|      [0.025      0.975]\n",
              "------------------------------------------------------------------------------\n",
              "x1            -2.3014      0.117    -19.645      0.000      -2.531      -2.072\n",
              "x2             0.0340      0.001     39.389      0.000       0.032       0.036\n",
              "x3             0.0001      0.001      0.117      0.907      -0.002       0.002\n",
              "x4            -0.0106      0.001     -8.770      0.000      -0.013      -0.008\n",
              "x5             0.0083      0.001      9.843      0.000       0.007       0.010\n",
              "x6             0.0149      0.000     43.379      0.000       0.014       0.016\n",
              "x7             0.0391      0.003     14.199      0.000       0.034       0.045\n",
              "x8             0.0093      0.001     12.294      0.000       0.008       0.011\n",
              "x9            -0.0047      0.001     -8.924      0.000      -0.006      -0.004\n",
              "x10           -2.3035      0.014   -166.911      0.000      -2.331      -2.276\n",
              "x11           37.9881      0.413     92.005      0.000      37.179      38.797\n",
              "x12           -0.0810      0.012     -6.917      0.000      -0.104      -0.058\n",
              "x13            0.4973      0.027     18.084      0.000       0.443       0.551\n",
              "==============================================================================\n",
              "Omnibus:                       92.726   Durbin-Watson:                   0.174\n",
              "Prob(Omnibus):                  0.000   Jarque-Bera (JB):              117.798\n",
              "Skew:                           0.159   Prob(JB):                     2.63e-26\n",
              "Kurtosis:                       3.448   Cond. No.                     1.53e+04\n",
              "==============================================================================\n",
              "\n",
              "Warnings:\n",
              "[1] Standard Errors assume that the covariance matrix of the errors is correctly specified.\n",
              "[2] The condition number is large, 1.53e+04. This might indicate that there are\n",
              "strong multicollinearity or other numerical problems.\n",
              "\"\"\""
            ]
          },
          "metadata": {
            "tags": []
          },
          "execution_count": 211
        }
      ]
    },
    {
      "cell_type": "code",
      "metadata": {
        "id": "ZSgG7rOA-yYk"
      },
      "source": [
        "from sklearn.model_selection import learning_curve\n",
        "\n",
        "train_sizes, train_errors, validation_errors = learning_curve(estimator = RF, X = X1_train, y = y1_train, cv=5, scoring = 'neg_mean_squared_error', train_sizes=np.linspace(0.1, 1.0, 5))\n"
      ],
      "execution_count": null,
      "outputs": []
    },
    {
      "cell_type": "code",
      "metadata": {
        "id": "i4H520R7-ybm"
      },
      "source": [
        "train_error_mean = -np.mean(train_errors,axis=1)"
      ],
      "execution_count": null,
      "outputs": []
    },
    {
      "cell_type": "code",
      "metadata": {
        "id": "O5f958qd-yeR"
      },
      "source": [
        "validation_error_mean = -np.mean(validation_errors,axis=1)"
      ],
      "execution_count": null,
      "outputs": []
    },
    {
      "cell_type": "code",
      "metadata": {
        "colab": {
          "base_uri": "https://localhost:8080/"
        },
        "id": "l0ZnH2bs-yhH",
        "outputId": "0201b216-8619-4d87-84a5-682174cff9d9"
      },
      "source": [
        "print('Mean training error\\n\\n',pd.Series(train_error_mean, index = train_sizes))\n",
        "print('\\n')\n",
        "print('\\nMean validation error\\n\\n',pd.Series(validation_error_mean, index = train_sizes))"
      ],
      "execution_count": null,
      "outputs": [
        {
          "output_type": "stream",
          "text": [
            "Mean training error\n",
            "\n",
            " 523     1.372512\n",
            "1702    0.275477\n",
            "2881    0.156202\n",
            "4060    0.107362\n",
            "5239    0.081381\n",
            "dtype: float64\n",
            "\n",
            "\n",
            "\n",
            "Mean validation error\n",
            "\n",
            " 523     9.259891\n",
            "1702    2.041655\n",
            "2881    1.081740\n",
            "4060    0.713674\n",
            "5239    0.533254\n",
            "dtype: float64\n"
          ],
          "name": "stdout"
        }
      ]
    },
    {
      "cell_type": "code",
      "metadata": {
        "colab": {
          "base_uri": "https://localhost:8080/",
          "height": 477
        },
        "id": "vxXBIS9x-LJ6",
        "outputId": "d3a104ea-f550-4d9e-8d7d-33b5bcf1da6a"
      },
      "source": [
        "fig = plt.figure(figsize=(10,7))\n",
        "\n",
        "plt.style.use('seaborn')\n",
        "\n",
        "plt.plot(train_sizes, train_error_mean, label='Training error')\n",
        "plt.plot(train_sizes, validation_error_mean, label='Validation error')\n",
        "\n",
        "plt.ylabel('Mean Squared Error', fontsize = 14)\n",
        "plt.xlabel('Training set size', fontsize = 14)\n",
        "plt.title('Learning curves for a Random Forest Regression model',fontsize = 18, y=1.03)\n",
        "plt.legend()\n",
        "plt.show()"
      ],
      "execution_count": null,
      "outputs": [
        {
          "output_type": "display_data",
          "data": {
            "image/png": "[encoded data removed]",
            "text/plain": [
              "<Figure size 720x504 with 1 Axes>"
            ]
          },
          "metadata": {
            "tags": [],
            "needs_background": "light"
          }
        }
      ]
    },
    {
      "cell_type": "code",
      "metadata": {
        "id": "x3gko9eGAM31"
      },
      "source": [
        "pred=pd.DataFrame(RF.predict(X1_test))\n",
        "pred.columns=['predicted']\n",
        "actual=pd.DataFrame(y1_test.reset_index()['RH'])\n",
        "actual.columns=['actual']"
      ],
      "execution_count": null,
      "outputs": []
    },
    {
      "cell_type": "code",
      "metadata": {
        "colab": {
          "base_uri": "https://localhost:8080/",
          "height": 1000
        },
        "id": "uwyzB8DDAM9W",
        "outputId": "71c07192-69fa-4f4e-8d21-80bf1e0e4ada"
      },
      "source": [
        "RF_pred=pd.concat([actual,pred],axis=1)\n",
        "\n",
        "RF_pred.head(50)"
      ],
      "execution_count": null,
      "outputs": [
        {
          "output_type": "execute_result",
          "data": {
            "text/html": [
              "<div>\n",
              "<style scoped>\n",
              "    .dataframe tbody tr th:only-of-type {\n",
              "        vertical-align: middle;\n",
              "    }\n",
              "\n",
              "    .dataframe tbody tr th {\n",
              "        vertical-align: top;\n",
              "    }\n",
              "\n",
              "    .dataframe thead th {\n",
              "        text-align: right;\n",
              "    }\n",
              "</style>\n",
              "<table border=\"1\" class=\"dataframe\">\n",
              "  <thead>\n",
              "    <tr style=\"text-align: right;\">\n",
              "      <th></th>\n",
              "      <th>actual</th>\n",
              "      <th>predicted</th>\n",
              "    </tr>\n",
              "  </thead>\n",
              "  <tbody>\n",
              "    <tr>\n",
              "      <th>0</th>\n",
              "      <td>31.7</td>\n",
              "      <td>32.152</td>\n",
              "    </tr>\n",
              "    <tr>\n",
              "      <th>1</th>\n",
              "      <td>45.1</td>\n",
              "      <td>44.879</td>\n",
              "    </tr>\n",
              "    <tr>\n",
              "      <th>2</th>\n",
              "      <td>45.6</td>\n",
              "      <td>45.942</td>\n",
              "    </tr>\n",
              "    <tr>\n",
              "      <th>3</th>\n",
              "      <td>46.7</td>\n",
              "      <td>46.432</td>\n",
              "    </tr>\n",
              "    <tr>\n",
              "      <th>4</th>\n",
              "      <td>66.5</td>\n",
              "      <td>66.800</td>\n",
              "    </tr>\n",
              "    <tr>\n",
              "      <th>5</th>\n",
              "      <td>19.1</td>\n",
              "      <td>19.638</td>\n",
              "    </tr>\n",
              "    <tr>\n",
              "      <th>6</th>\n",
              "      <td>39.2</td>\n",
              "      <td>39.248</td>\n",
              "    </tr>\n",
              "    <tr>\n",
              "      <th>7</th>\n",
              "      <td>25.7</td>\n",
              "      <td>26.309</td>\n",
              "    </tr>\n",
              "    <tr>\n",
              "      <th>8</th>\n",
              "      <td>53.4</td>\n",
              "      <td>53.522</td>\n",
              "    </tr>\n",
              "    <tr>\n",
              "      <th>9</th>\n",
              "      <td>19.5</td>\n",
              "      <td>19.221</td>\n",
              "    </tr>\n",
              "    <tr>\n",
              "      <th>10</th>\n",
              "      <td>54.9</td>\n",
              "      <td>54.454</td>\n",
              "    </tr>\n",
              "    <tr>\n",
              "      <th>11</th>\n",
              "      <td>57.9</td>\n",
              "      <td>57.626</td>\n",
              "    </tr>\n",
              "    <tr>\n",
              "      <th>12</th>\n",
              "      <td>68.5</td>\n",
              "      <td>68.582</td>\n",
              "    </tr>\n",
              "    <tr>\n",
              "      <th>13</th>\n",
              "      <td>45.1</td>\n",
              "      <td>45.854</td>\n",
              "    </tr>\n",
              "    <tr>\n",
              "      <th>14</th>\n",
              "      <td>27.7</td>\n",
              "      <td>27.514</td>\n",
              "    </tr>\n",
              "    <tr>\n",
              "      <th>15</th>\n",
              "      <td>13.1</td>\n",
              "      <td>13.955</td>\n",
              "    </tr>\n",
              "    <tr>\n",
              "      <th>16</th>\n",
              "      <td>68.5</td>\n",
              "      <td>68.775</td>\n",
              "    </tr>\n",
              "    <tr>\n",
              "      <th>17</th>\n",
              "      <td>45.6</td>\n",
              "      <td>46.405</td>\n",
              "    </tr>\n",
              "    <tr>\n",
              "      <th>18</th>\n",
              "      <td>34.0</td>\n",
              "      <td>34.064</td>\n",
              "    </tr>\n",
              "    <tr>\n",
              "      <th>19</th>\n",
              "      <td>81.7</td>\n",
              "      <td>79.393</td>\n",
              "    </tr>\n",
              "    <tr>\n",
              "      <th>20</th>\n",
              "      <td>42.6</td>\n",
              "      <td>43.152</td>\n",
              "    </tr>\n",
              "    <tr>\n",
              "      <th>21</th>\n",
              "      <td>57.3</td>\n",
              "      <td>57.458</td>\n",
              "    </tr>\n",
              "    <tr>\n",
              "      <th>22</th>\n",
              "      <td>52.5</td>\n",
              "      <td>52.226</td>\n",
              "    </tr>\n",
              "    <tr>\n",
              "      <th>23</th>\n",
              "      <td>76.1</td>\n",
              "      <td>76.673</td>\n",
              "    </tr>\n",
              "    <tr>\n",
              "      <th>24</th>\n",
              "      <td>73.0</td>\n",
              "      <td>73.310</td>\n",
              "    </tr>\n",
              "    <tr>\n",
              "      <th>25</th>\n",
              "      <td>21.5</td>\n",
              "      <td>21.392</td>\n",
              "    </tr>\n",
              "    <tr>\n",
              "      <th>26</th>\n",
              "      <td>68.6</td>\n",
              "      <td>68.174</td>\n",
              "    </tr>\n",
              "    <tr>\n",
              "      <th>27</th>\n",
              "      <td>54.1</td>\n",
              "      <td>54.245</td>\n",
              "    </tr>\n",
              "    <tr>\n",
              "      <th>28</th>\n",
              "      <td>47.1</td>\n",
              "      <td>47.048</td>\n",
              "    </tr>\n",
              "    <tr>\n",
              "      <th>29</th>\n",
              "      <td>30.2</td>\n",
              "      <td>30.374</td>\n",
              "    </tr>\n",
              "    <tr>\n",
              "      <th>30</th>\n",
              "      <td>25.5</td>\n",
              "      <td>25.596</td>\n",
              "    </tr>\n",
              "    <tr>\n",
              "      <th>31</th>\n",
              "      <td>50.9</td>\n",
              "      <td>51.384</td>\n",
              "    </tr>\n",
              "    <tr>\n",
              "      <th>32</th>\n",
              "      <td>37.2</td>\n",
              "      <td>36.792</td>\n",
              "    </tr>\n",
              "    <tr>\n",
              "      <th>33</th>\n",
              "      <td>17.5</td>\n",
              "      <td>17.871</td>\n",
              "    </tr>\n",
              "    <tr>\n",
              "      <th>34</th>\n",
              "      <td>50.6</td>\n",
              "      <td>50.498</td>\n",
              "    </tr>\n",
              "    <tr>\n",
              "      <th>35</th>\n",
              "      <td>76.5</td>\n",
              "      <td>76.561</td>\n",
              "    </tr>\n",
              "    <tr>\n",
              "      <th>36</th>\n",
              "      <td>26.4</td>\n",
              "      <td>26.630</td>\n",
              "    </tr>\n",
              "    <tr>\n",
              "      <th>37</th>\n",
              "      <td>59.9</td>\n",
              "      <td>59.837</td>\n",
              "    </tr>\n",
              "    <tr>\n",
              "      <th>38</th>\n",
              "      <td>58.8</td>\n",
              "      <td>59.556</td>\n",
              "    </tr>\n",
              "    <tr>\n",
              "      <th>39</th>\n",
              "      <td>53.0</td>\n",
              "      <td>53.055</td>\n",
              "    </tr>\n",
              "    <tr>\n",
              "      <th>40</th>\n",
              "      <td>25.1</td>\n",
              "      <td>24.915</td>\n",
              "    </tr>\n",
              "    <tr>\n",
              "      <th>41</th>\n",
              "      <td>54.5</td>\n",
              "      <td>54.337</td>\n",
              "    </tr>\n",
              "    <tr>\n",
              "      <th>42</th>\n",
              "      <td>66.5</td>\n",
              "      <td>66.346</td>\n",
              "    </tr>\n",
              "    <tr>\n",
              "      <th>43</th>\n",
              "      <td>56.2</td>\n",
              "      <td>56.344</td>\n",
              "    </tr>\n",
              "    <tr>\n",
              "      <th>44</th>\n",
              "      <td>66.4</td>\n",
              "      <td>67.009</td>\n",
              "    </tr>\n",
              "    <tr>\n",
              "      <th>45</th>\n",
              "      <td>60.9</td>\n",
              "      <td>60.649</td>\n",
              "    </tr>\n",
              "    <tr>\n",
              "      <th>46</th>\n",
              "      <td>41.7</td>\n",
              "      <td>42.702</td>\n",
              "    </tr>\n",
              "    <tr>\n",
              "      <th>47</th>\n",
              "      <td>51.5</td>\n",
              "      <td>51.416</td>\n",
              "    </tr>\n",
              "    <tr>\n",
              "      <th>48</th>\n",
              "      <td>34.8</td>\n",
              "      <td>34.614</td>\n",
              "    </tr>\n",
              "    <tr>\n",
              "      <th>49</th>\n",
              "      <td>35.8</td>\n",
              "      <td>36.617</td>\n",
              "    </tr>\n",
              "  </tbody>\n",
              "</table>\n",
              "</div>"
            ],
            "text/plain": [
              "    actual  predicted\n",
              "0     31.7     32.152\n",
              "1     45.1     44.879\n",
              "2     45.6     45.942\n",
              "3     46.7     46.432\n",
              "4     66.5     66.800\n",
              "5     19.1     19.638\n",
              "6     39.2     39.248\n",
              "7     25.7     26.309\n",
              "8     53.4     53.522\n",
              "9     19.5     19.221\n",
              "10    54.9     54.454\n",
              "11    57.9     57.626\n",
              "12    68.5     68.582\n",
              "13    45.1     45.854\n",
              "14    27.7     27.514\n",
              "15    13.1     13.955\n",
              "16    68.5     68.775\n",
              "17    45.6     46.405\n",
              "18    34.0     34.064\n",
              "19    81.7     79.393\n",
              "20    42.6     43.152\n",
              "21    57.3     57.458\n",
              "22    52.5     52.226\n",
              "23    76.1     76.673\n",
              "24    73.0     73.310\n",
              "25    21.5     21.392\n",
              "26    68.6     68.174\n",
              "27    54.1     54.245\n",
              "28    47.1     47.048\n",
              "29    30.2     30.374\n",
              "30    25.5     25.596\n",
              "31    50.9     51.384\n",
              "32    37.2     36.792\n",
              "33    17.5     17.871\n",
              "34    50.6     50.498\n",
              "35    76.5     76.561\n",
              "36    26.4     26.630\n",
              "37    59.9     59.837\n",
              "38    58.8     59.556\n",
              "39    53.0     53.055\n",
              "40    25.1     24.915\n",
              "41    54.5     54.337\n",
              "42    66.5     66.346\n",
              "43    56.2     56.344\n",
              "44    66.4     67.009\n",
              "45    60.9     60.649\n",
              "46    41.7     42.702\n",
              "47    51.5     51.416\n",
              "48    34.8     34.614\n",
              "49    35.8     36.617"
            ]
          },
          "metadata": {
            "tags": []
          },
          "execution_count": 218
        }
      ]
    },
    {
      "cell_type": "code",
      "metadata": {
        "id": "rxwImUx5ANA0"
      },
      "source": [
        "\n",
        "#decision tree regression"
      ],
      "execution_count": null,
      "outputs": []
    },
    {
      "cell_type": "code",
      "metadata": {
        "colab": {
          "base_uri": "https://localhost:8080/"
        },
        "id": "uQx8dUQBAND3",
        "outputId": "c441ea70-d808-477b-bbda-43199d96d1f2"
      },
      "source": [
        "from sklearn.tree import DecisionTreeRegressor\n",
        "regressor = DecisionTreeRegressor()\n",
        "regressor.fit(X1_train,y1_train)"
      ],
      "execution_count": null,
      "outputs": [
        {
          "output_type": "execute_result",
          "data": {
            "text/plain": [
              "DecisionTreeRegressor(ccp_alpha=0.0, criterion='mse', max_depth=None,\n",
              "                      max_features=None, max_leaf_nodes=None,\n",
              "                      min_impurity_decrease=0.0, min_impurity_split=None,\n",
              "                      min_samples_leaf=1, min_samples_split=2,\n",
              "                      min_weight_fraction_leaf=0.0, presort='deprecated',\n",
              "                      random_state=None, splitter='best')"
            ]
          },
          "metadata": {
            "tags": []
          },
          "execution_count": 220
        }
      ]
    },
    {
      "cell_type": "code",
      "metadata": {
        "id": "nx8qX_EsANG3"
      },
      "source": [
        "from sklearn.model_selection import cross_val_score\n",
        "score=cross_val_score(regressor,X,y,cv=5)"
      ],
      "execution_count": null,
      "outputs": []
    },
    {
      "cell_type": "code",
      "metadata": {
        "colab": {
          "base_uri": "https://localhost:8080/"
        },
        "id": "cmZDt4ECANJe",
        "outputId": "194261fd-42ca-474b-891d-9664b89f60c6"
      },
      "source": [
        "score.mean()"
      ],
      "execution_count": null,
      "outputs": [
        {
          "output_type": "execute_result",
          "data": {
            "text/plain": [
              "0.9832057277342694"
            ]
          },
          "metadata": {
            "tags": []
          },
          "execution_count": 222
        }
      ]
    },
    {
      "cell_type": "code",
      "metadata": {
        "colab": {
          "base_uri": "https://localhost:8080/",
          "height": 364
        },
        "id": "m1j0pUlPANMF",
        "outputId": "479849a8-f300-428c-bbbb-6c5ad5f2a7a4"
      },
      "source": [
        "prediction=regressor.predict(X1_test)\n",
        "\n",
        "plt.scatter(y1_test,prediction)\n"
      ],
      "execution_count": null,
      "outputs": [
        {
          "output_type": "execute_result",
          "data": {
            "text/plain": [
              "<matplotlib.collections.PathCollection at 0x7fe1b9bd25f8>"
            ]
          },
          "metadata": {
            "tags": []
          },
          "execution_count": 223
        },
        {
          "output_type": "display_data",
          "data": {
            "image/png": "[encoded data removed]",
            "text/plain": [
              "<Figure size 576x396 with 1 Axes>"
            ]
          },
          "metadata": {
            "tags": []
          }
        }
      ]
    },
    {
      "cell_type": "code",
      "metadata": {
        "colab": {
          "base_uri": "https://localhost:8080/"
        },
        "id": "eDT_CMC3Anm9",
        "outputId": "bb68e39f-9833-4995-f02d-56f6b7c6802d"
      },
      "source": [
        "\n",
        "from sklearn import metrics\n",
        "print('MSE:', metrics.mean_squared_error(y1_test, prediction))\n",
        "print('MAE:',metrics.mean_absolute_error(y1_test, prediction))\n",
        "print('RMSE:',np.sqrt(metrics.mean_squared_error(y1_test, prediction)))\n"
      ],
      "execution_count": null,
      "outputs": [
        {
          "output_type": "stream",
          "text": [
            "MSE: 34.932249375507226\n",
            "MAE: 4.556532696120762\n",
            "RMSE: 5.910351036571958\n"
          ],
          "name": "stdout"
        }
      ]
    },
    {
      "cell_type": "code",
      "metadata": {
        "colab": {
          "base_uri": "https://localhost:8080/",
          "height": 639
        },
        "id": "j5qs8u6HAnq6",
        "outputId": "3d9679a7-9e8b-4237-db24-74464f019c6f"
      },
      "source": [
        "X_opt = X_opt[:,[0,1,2,4,5,6,7,8,9,10,11]]\n",
        "regressor_OLS = sm.OLS(endog=y, exog=X_opt).fit()\n",
        "regressor_OLS.summary()\n"
      ],
      "execution_count": null,
      "outputs": [
        {
          "output_type": "execute_result",
          "data": {
            "text/html": [
              "<table class=\"simpletable\">\n",
              "<caption>OLS Regression Results</caption>\n",
              "<tr>\n",
              "  <th>Dep. Variable:</th>           <td>RH</td>        <th>  R-squared (uncentered):</th>      <td>   0.984</td> \n",
              "</tr>\n",
              "<tr>\n",
              "  <th>Model:</th>                   <td>OLS</td>       <th>  Adj. R-squared (uncentered):</th> <td>   0.984</td> \n",
              "</tr>\n",
              "<tr>\n",
              "  <th>Method:</th>             <td>Least Squares</td>  <th>  F-statistic:       </th>          <td>5.099e+04</td>\n",
              "</tr>\n",
              "<tr>\n",
              "  <th>Date:</th>             <td>Thu, 03 Dec 2020</td> <th>  Prob (F-statistic):</th>           <td>  0.00</td>  \n",
              "</tr>\n",
              "<tr>\n",
              "  <th>Time:</th>                 <td>09:50:49</td>     <th>  Log-Likelihood:    </th>          <td> -31027.</td> \n",
              "</tr>\n",
              "<tr>\n",
              "  <th>No. Observations:</th>      <td>  9356</td>      <th>  AIC:               </th>          <td>6.208e+04</td>\n",
              "</tr>\n",
              "<tr>\n",
              "  <th>Df Residuals:</th>          <td>  9345</td>      <th>  BIC:               </th>          <td>6.215e+04</td>\n",
              "</tr>\n",
              "<tr>\n",
              "  <th>Df Model:</th>              <td>    11</td>      <th>                     </th>              <td> </td>    \n",
              "</tr>\n",
              "<tr>\n",
              "  <th>Covariance Type:</th>      <td>nonrobust</td>    <th>                     </th>              <td> </td>    \n",
              "</tr>\n",
              "</table>\n",
              "<table class=\"simpletable\">\n",
              "<tr>\n",
              "   <td></td>      <th>coef</th>     <th>std err</th>      <th>t</th>      <th>P>|t|</th>  <th>[0.025</th>    <th>0.975]</th>  \n",
              "</tr>\n",
              "<tr>\n",
              "  <th>x1</th>  <td>   -2.1460</td> <td>    0.119</td> <td>  -18.064</td> <td> 0.000</td> <td>   -2.379</td> <td>   -1.913</td>\n",
              "</tr>\n",
              "<tr>\n",
              "  <th>x2</th>  <td>    0.0288</td> <td>    0.001</td> <td>   36.656</td> <td> 0.000</td> <td>    0.027</td> <td>    0.030</td>\n",
              "</tr>\n",
              "<tr>\n",
              "  <th>x3</th>  <td>    0.0017</td> <td>    0.001</td> <td>    1.442</td> <td> 0.149</td> <td>   -0.001</td> <td>    0.004</td>\n",
              "</tr>\n",
              "<tr>\n",
              "  <th>x4</th>  <td>    0.0104</td> <td>    0.001</td> <td>   12.756</td> <td> 0.000</td> <td>    0.009</td> <td>    0.012</td>\n",
              "</tr>\n",
              "<tr>\n",
              "  <th>x5</th>  <td>    0.0183</td> <td>    0.000</td> <td>   64.819</td> <td> 0.000</td> <td>    0.018</td> <td>    0.019</td>\n",
              "</tr>\n",
              "<tr>\n",
              "  <th>x6</th>  <td>    0.0256</td> <td>    0.003</td> <td>    9.496</td> <td> 0.000</td> <td>    0.020</td> <td>    0.031</td>\n",
              "</tr>\n",
              "<tr>\n",
              "  <th>x7</th>  <td>    0.0034</td> <td>    0.001</td> <td>    6.139</td> <td> 0.000</td> <td>    0.002</td> <td>    0.004</td>\n",
              "</tr>\n",
              "<tr>\n",
              "  <th>x8</th>  <td>   -0.0039</td> <td>    0.000</td> <td>   -7.966</td> <td> 0.000</td> <td>   -0.005</td> <td>   -0.003</td>\n",
              "</tr>\n",
              "<tr>\n",
              "  <th>x9</th>  <td>   -2.2988</td> <td>    0.013</td> <td> -174.102</td> <td> 0.000</td> <td>   -2.325</td> <td>   -2.273</td>\n",
              "</tr>\n",
              "<tr>\n",
              "  <th>x10</th> <td>   42.1176</td> <td>    0.304</td> <td>  138.686</td> <td> 0.000</td> <td>   41.522</td> <td>   42.713</td>\n",
              "</tr>\n",
              "<tr>\n",
              "  <th>x11</th> <td>   -0.0826</td> <td>    0.012</td> <td>   -7.116</td> <td> 0.000</td> <td>   -0.105</td> <td>   -0.060</td>\n",
              "</tr>\n",
              "</table>\n",
              "<table class=\"simpletable\">\n",
              "<tr>\n",
              "  <th>Omnibus:</th>       <td>84.977</td> <th>  Durbin-Watson:     </th> <td>   0.162</td>\n",
              "</tr>\n",
              "<tr>\n",
              "  <th>Prob(Omnibus):</th> <td> 0.000</td> <th>  Jarque-Bera (JB):  </th> <td> 119.988</td>\n",
              "</tr>\n",
              "<tr>\n",
              "  <th>Skew:</th>          <td> 0.111</td> <th>  Prob(JB):          </th> <td>8.81e-27</td>\n",
              "</tr>\n",
              "<tr>\n",
              "  <th>Kurtosis:</th>      <td> 3.508</td> <th>  Cond. No.          </th> <td>1.02e+04</td>\n",
              "</tr>\n",
              "</table><br/><br/>Warnings:<br/>[1] Standard Errors assume that the covariance matrix of the errors is correctly specified.<br/>[2] The condition number is large, 1.02e+04. This might indicate that there are<br/>strong multicollinearity or other numerical problems."
            ],
            "text/plain": [
              "<class 'statsmodels.iolib.summary.Summary'>\n",
              "\"\"\"\n",
              "                                 OLS Regression Results                                \n",
              "=======================================================================================\n",
              "Dep. Variable:                     RH   R-squared (uncentered):                   0.984\n",
              "Model:                            OLS   Adj. R-squared (uncentered):              0.984\n",
              "Method:                 Least Squares   F-statistic:                          5.099e+04\n",
              "Date:                Thu, 03 Dec 2020   Prob (F-statistic):                        0.00\n",
              "Time:                        09:50:49   Log-Likelihood:                         -31027.\n",
              "No. Observations:                9356   AIC:                                  6.208e+04\n",
              "Df Residuals:                    9345   BIC:                                  6.215e+04\n",
              "Df Model:                          11                                                  \n",
              "Covariance Type:            nonrobust                                                  \n",
              "==============================================================================\n",
              "                 coef    std err          t      P>|t|      [0.025      0.975]\n",
              "------------------------------------------------------------------------------\n",
              "x1            -2.1460      0.119    -18.064      0.000      -2.379      -1.913\n",
              "x2             0.0288      0.001     36.656      0.000       0.027       0.030\n",
              "x3             0.0017      0.001      1.442      0.149      -0.001       0.004\n",
              "x4             0.0104      0.001     12.756      0.000       0.009       0.012\n",
              "x5             0.0183      0.000     64.819      0.000       0.018       0.019\n",
              "x6             0.0256      0.003      9.496      0.000       0.020       0.031\n",
              "x7             0.0034      0.001      6.139      0.000       0.002       0.004\n",
              "x8            -0.0039      0.000     -7.966      0.000      -0.005      -0.003\n",
              "x9            -2.2988      0.013   -174.102      0.000      -2.325      -2.273\n",
              "x10           42.1176      0.304    138.686      0.000      41.522      42.713\n",
              "x11           -0.0826      0.012     -7.116      0.000      -0.105      -0.060\n",
              "==============================================================================\n",
              "Omnibus:                       84.977   Durbin-Watson:                   0.162\n",
              "Prob(Omnibus):                  0.000   Jarque-Bera (JB):              119.988\n",
              "Skew:                           0.111   Prob(JB):                     8.81e-27\n",
              "Kurtosis:                       3.508   Cond. No.                     1.02e+04\n",
              "==============================================================================\n",
              "\n",
              "Warnings:\n",
              "[1] Standard Errors assume that the covariance matrix of the errors is correctly specified.\n",
              "[2] The condition number is large, 1.02e+04. This might indicate that there are\n",
              "strong multicollinearity or other numerical problems.\n",
              "\"\"\""
            ]
          },
          "metadata": {
            "tags": []
          },
          "execution_count": 225
        }
      ]
    },
    {
      "cell_type": "code",
      "metadata": {
        "colab": {
          "base_uri": "https://localhost:8080/"
        },
        "id": "lgGgzPnZAnt2",
        "outputId": "9db5c179-4656-42fa-9ca6-b7c7069a9d86"
      },
      "source": [
        "#support vector regression\n",
        "from sklearn.svm import SVR\n",
        "regressor = SVR(kernel='rbf')\n",
        "regressor.fit(X1_train,y1_train)"
      ],
      "execution_count": null,
      "outputs": [
        {
          "output_type": "execute_result",
          "data": {
            "text/plain": [
              "SVR(C=1.0, cache_size=200, coef0=0.0, degree=3, epsilon=0.1, gamma='scale',\n",
              "    kernel='rbf', max_iter=-1, shrinking=True, tol=0.001, verbose=False)"
            ]
          },
          "metadata": {
            "tags": []
          },
          "execution_count": 226
        }
      ]
    },
    {
      "cell_type": "code",
      "metadata": {
        "id": "3jI2R8wSAnw2"
      },
      "source": [
        "from sklearn.model_selection import cross_val_score\n",
        "score=cross_val_score(regressor,X,y,cv=5)"
      ],
      "execution_count": null,
      "outputs": []
    },
    {
      "cell_type": "code",
      "metadata": {
        "colab": {
          "base_uri": "https://localhost:8080/"
        },
        "id": "9DaEiZ-PAnzh",
        "outputId": "0b8559bc-4afe-46ce-eb6e-fca7fb347823"
      },
      "source": [
        "score.mean()"
      ],
      "execution_count": null,
      "outputs": [
        {
          "output_type": "execute_result",
          "data": {
            "text/plain": [
              "0.04881000908375803"
            ]
          },
          "metadata": {
            "tags": []
          },
          "execution_count": 228
        }
      ]
    },
    {
      "cell_type": "code",
      "metadata": {
        "colab": {
          "base_uri": "https://localhost:8080/",
          "height": 364
        },
        "id": "3tU9bkIHAn2h",
        "outputId": "a74ba2e1-26f6-4851-8b5c-9be6c9a03544"
      },
      "source": [
        "prediction=regressor.predict(X1_test)\n",
        "\n",
        "plt.scatter(y1_test,prediction)"
      ],
      "execution_count": null,
      "outputs": [
        {
          "output_type": "execute_result",
          "data": {
            "text/plain": [
              "<matplotlib.collections.PathCollection at 0x7fe1b9ae0518>"
            ]
          },
          "metadata": {
            "tags": []
          },
          "execution_count": 229
        },
        {
          "output_type": "display_data",
          "data": {
            "image/png": "[encoded data removed]",
            "text/plain": [
              "<Figure size 576x396 with 1 Axes>"
            ]
          },
          "metadata": {
            "tags": []
          }
        }
      ]
    },
    {
      "cell_type": "code",
      "metadata": {
        "colab": {
          "base_uri": "https://localhost:8080/"
        },
        "id": "znzFabaZAn7r",
        "outputId": "4d6bdde6-0440-427e-cd6c-ff7d0383c8c4"
      },
      "source": [
        "from sklearn import metrics\n",
        "print('MSE:', metrics.mean_squared_error(y1_test, prediction))\n"
      ],
      "execution_count": null,
      "outputs": [
        {
          "output_type": "stream",
          "text": [
            "MSE: 198.9101508156627\n"
          ],
          "name": "stdout"
        }
      ]
    },
    {
      "cell_type": "code",
      "metadata": {
        "colab": {
          "base_uri": "https://localhost:8080/",
          "height": 619
        },
        "id": "ThMhkcw9An-z",
        "outputId": "86dcdb68-c281-42a7-f704-9e3745c216e0"
      },
      "source": [
        "X_opt = X_opt[:,[0,1,2,4,5,6,7,8,9,10]]\n",
        "regressor_OLS = sm.OLS(endog=y, exog=X_opt).fit()\n",
        "regressor_OLS.summary()"
      ],
      "execution_count": null,
      "outputs": [
        {
          "output_type": "execute_result",
          "data": {
            "text/html": [
              "<table class=\"simpletable\">\n",
              "<caption>OLS Regression Results</caption>\n",
              "<tr>\n",
              "  <th>Dep. Variable:</th>           <td>RH</td>        <th>  R-squared (uncentered):</th>      <td>   0.983</td> \n",
              "</tr>\n",
              "<tr>\n",
              "  <th>Model:</th>                   <td>OLS</td>       <th>  Adj. R-squared (uncentered):</th> <td>   0.983</td> \n",
              "</tr>\n",
              "<tr>\n",
              "  <th>Method:</th>             <td>Least Squares</td>  <th>  F-statistic:       </th>          <td>5.512e+04</td>\n",
              "</tr>\n",
              "<tr>\n",
              "  <th>Date:</th>             <td>Thu, 03 Dec 2020</td> <th>  Prob (F-statistic):</th>           <td>  0.00</td>  \n",
              "</tr>\n",
              "<tr>\n",
              "  <th>Time:</th>                 <td>09:53:36</td>     <th>  Log-Likelihood:    </th>          <td> -31108.</td> \n",
              "</tr>\n",
              "<tr>\n",
              "  <th>No. Observations:</th>      <td>  9356</td>      <th>  AIC:               </th>          <td>6.224e+04</td>\n",
              "</tr>\n",
              "<tr>\n",
              "  <th>Df Residuals:</th>          <td>  9346</td>      <th>  BIC:               </th>          <td>6.231e+04</td>\n",
              "</tr>\n",
              "<tr>\n",
              "  <th>Df Model:</th>              <td>    10</td>      <th>                     </th>              <td> </td>    \n",
              "</tr>\n",
              "<tr>\n",
              "  <th>Covariance Type:</th>      <td>nonrobust</td>    <th>                     </th>              <td> </td>    \n",
              "</tr>\n",
              "</table>\n",
              "<table class=\"simpletable\">\n",
              "<tr>\n",
              "   <td></td>      <th>coef</th>     <th>std err</th>      <th>t</th>      <th>P>|t|</th>  <th>[0.025</th>    <th>0.975]</th>  \n",
              "</tr>\n",
              "<tr>\n",
              "  <th>x1</th>  <td>   -1.1988</td> <td>    0.094</td> <td>  -12.817</td> <td> 0.000</td> <td>   -1.382</td> <td>   -1.015</td>\n",
              "</tr>\n",
              "<tr>\n",
              "  <th>x2</th>  <td>    0.0296</td> <td>    0.001</td> <td>   37.479</td> <td> 0.000</td> <td>    0.028</td> <td>    0.031</td>\n",
              "</tr>\n",
              "<tr>\n",
              "  <th>x3</th>  <td>   -0.0022</td> <td>    0.001</td> <td>   -1.936</td> <td> 0.053</td> <td>   -0.004</td> <td> 2.68e-05</td>\n",
              "</tr>\n",
              "<tr>\n",
              "  <th>x4</th>  <td>    0.0185</td> <td>    0.000</td> <td>   65.165</td> <td> 0.000</td> <td>    0.018</td> <td>    0.019</td>\n",
              "</tr>\n",
              "<tr>\n",
              "  <th>x5</th>  <td>    0.0405</td> <td>    0.002</td> <td>   16.503</td> <td> 0.000</td> <td>    0.036</td> <td>    0.045</td>\n",
              "</tr>\n",
              "<tr>\n",
              "  <th>x6</th>  <td>    0.0009</td> <td>    0.001</td> <td>    1.822</td> <td> 0.069</td> <td> -7.2e-05</td> <td>    0.002</td>\n",
              "</tr>\n",
              "<tr>\n",
              "  <th>x7</th>  <td>   -0.0027</td> <td>    0.000</td> <td>   -5.594</td> <td> 0.000</td> <td>   -0.004</td> <td>   -0.002</td>\n",
              "</tr>\n",
              "<tr>\n",
              "  <th>x8</th>  <td>   -2.3223</td> <td>    0.013</td> <td> -176.115</td> <td> 0.000</td> <td>   -2.348</td> <td>   -2.296</td>\n",
              "</tr>\n",
              "<tr>\n",
              "  <th>x9</th>  <td>   43.3137</td> <td>    0.291</td> <td>  148.671</td> <td> 0.000</td> <td>   42.743</td> <td>   43.885</td>\n",
              "</tr>\n",
              "<tr>\n",
              "  <th>x10</th> <td>   -0.0952</td> <td>    0.012</td> <td>   -8.164</td> <td> 0.000</td> <td>   -0.118</td> <td>   -0.072</td>\n",
              "</tr>\n",
              "</table>\n",
              "<table class=\"simpletable\">\n",
              "<tr>\n",
              "  <th>Omnibus:</th>       <td>72.860</td> <th>  Durbin-Watson:     </th> <td>   0.148</td>\n",
              "</tr>\n",
              "<tr>\n",
              "  <th>Prob(Omnibus):</th> <td> 0.000</td> <th>  Jarque-Bera (JB):  </th> <td>  98.744</td>\n",
              "</tr>\n",
              "<tr>\n",
              "  <th>Skew:</th>          <td> 0.107</td> <th>  Prob(JB):          </th> <td>3.61e-22</td>\n",
              "</tr>\n",
              "<tr>\n",
              "  <th>Kurtosis:</th>      <td> 3.455</td> <th>  Cond. No.          </th> <td>9.61e+03</td>\n",
              "</tr>\n",
              "</table><br/><br/>Warnings:<br/>[1] Standard Errors assume that the covariance matrix of the errors is correctly specified.<br/>[2] The condition number is large, 9.61e+03. This might indicate that there are<br/>strong multicollinearity or other numerical problems."
            ],
            "text/plain": [
              "<class 'statsmodels.iolib.summary.Summary'>\n",
              "\"\"\"\n",
              "                                 OLS Regression Results                                \n",
              "=======================================================================================\n",
              "Dep. Variable:                     RH   R-squared (uncentered):                   0.983\n",
              "Model:                            OLS   Adj. R-squared (uncentered):              0.983\n",
              "Method:                 Least Squares   F-statistic:                          5.512e+04\n",
              "Date:                Thu, 03 Dec 2020   Prob (F-statistic):                        0.00\n",
              "Time:                        09:53:36   Log-Likelihood:                         -31108.\n",
              "No. Observations:                9356   AIC:                                  6.224e+04\n",
              "Df Residuals:                    9346   BIC:                                  6.231e+04\n",
              "Df Model:                          10                                                  \n",
              "Covariance Type:            nonrobust                                                  \n",
              "==============================================================================\n",
              "                 coef    std err          t      P>|t|      [0.025      0.975]\n",
              "------------------------------------------------------------------------------\n",
              "x1            -1.1988      0.094    -12.817      0.000      -1.382      -1.015\n",
              "x2             0.0296      0.001     37.479      0.000       0.028       0.031\n",
              "x3            -0.0022      0.001     -1.936      0.053      -0.004    2.68e-05\n",
              "x4             0.0185      0.000     65.165      0.000       0.018       0.019\n",
              "x5             0.0405      0.002     16.503      0.000       0.036       0.045\n",
              "x6             0.0009      0.001      1.822      0.069    -7.2e-05       0.002\n",
              "x7            -0.0027      0.000     -5.594      0.000      -0.004      -0.002\n",
              "x8            -2.3223      0.013   -176.115      0.000      -2.348      -2.296\n",
              "x9            43.3137      0.291    148.671      0.000      42.743      43.885\n",
              "x10           -0.0952      0.012     -8.164      0.000      -0.118      -0.072\n",
              "==============================================================================\n",
              "Omnibus:                       72.860   Durbin-Watson:                   0.148\n",
              "Prob(Omnibus):                  0.000   Jarque-Bera (JB):               98.744\n",
              "Skew:                           0.107   Prob(JB):                     3.61e-22\n",
              "Kurtosis:                       3.455   Cond. No.                     9.61e+03\n",
              "==============================================================================\n",
              "\n",
              "Warnings:\n",
              "[1] Standard Errors assume that the covariance matrix of the errors is correctly specified.\n",
              "[2] The condition number is large, 9.61e+03. This might indicate that there are\n",
              "strong multicollinearity or other numerical problems.\n",
              "\"\"\""
            ]
          },
          "metadata": {
            "tags": []
          },
          "execution_count": 231
        }
      ]
    },
    {
      "cell_type": "code",
      "metadata": {
        "colab": {
          "base_uri": "https://localhost:8080/"
        },
        "id": "m2xWSNknAn5r",
        "outputId": "4c5508e7-442b-4125-d5d9-1770132664c4"
      },
      "source": [
        "from sklearn.linear_model import LinearRegression\n",
        "lm = LinearRegression()\n",
        "lm.fit(X1_train, y1_train)"
      ],
      "execution_count": null,
      "outputs": [
        {
          "output_type": "execute_result",
          "data": {
            "text/plain": [
              "LinearRegression(copy_X=True, fit_intercept=True, n_jobs=None, normalize=False)"
            ]
          },
          "metadata": {
            "tags": []
          },
          "execution_count": 232
        }
      ]
    },
    {
      "cell_type": "code",
      "metadata": {
        "colab": {
          "base_uri": "https://localhost:8080/"
        },
        "id": "5FeGHJpkBsby",
        "outputId": "b7c49b7b-01c0-46ed-bcb3-a4e555d271de"
      },
      "source": [
        "print(lm.intercept_)"
      ],
      "execution_count": null,
      "outputs": [
        {
          "output_type": "stream",
          "text": [
            "36.86733854136578\n"
          ],
          "name": "stdout"
        }
      ]
    },
    {
      "cell_type": "code",
      "metadata": {
        "colab": {
          "base_uri": "https://localhost:8080/",
          "height": 402
        },
        "id": "0Vq4vXw0Bw9Q",
        "outputId": "316051ab-3dc5-43bf-f96f-2e03420e6f64"
      },
      "source": [
        "pred"
      ],
      "execution_count": null,
      "outputs": [
        {
          "output_type": "execute_result",
          "data": {
            "text/html": [
              "<div>\n",
              "<style scoped>\n",
              "    .dataframe tbody tr th:only-of-type {\n",
              "        vertical-align: middle;\n",
              "    }\n",
              "\n",
              "    .dataframe tbody tr th {\n",
              "        vertical-align: top;\n",
              "    }\n",
              "\n",
              "    .dataframe thead th {\n",
              "        text-align: right;\n",
              "    }\n",
              "</style>\n",
              "<table border=\"1\" class=\"dataframe\">\n",
              "  <thead>\n",
              "    <tr style=\"text-align: right;\">\n",
              "      <th></th>\n",
              "      <th>predicted</th>\n",
              "    </tr>\n",
              "  </thead>\n",
              "  <tbody>\n",
              "    <tr>\n",
              "      <th>0</th>\n",
              "      <td>32.152</td>\n",
              "    </tr>\n",
              "    <tr>\n",
              "      <th>1</th>\n",
              "      <td>44.879</td>\n",
              "    </tr>\n",
              "    <tr>\n",
              "      <th>2</th>\n",
              "      <td>45.942</td>\n",
              "    </tr>\n",
              "    <tr>\n",
              "      <th>3</th>\n",
              "      <td>46.432</td>\n",
              "    </tr>\n",
              "    <tr>\n",
              "      <th>4</th>\n",
              "      <td>66.800</td>\n",
              "    </tr>\n",
              "    <tr>\n",
              "      <th>...</th>\n",
              "      <td>...</td>\n",
              "    </tr>\n",
              "    <tr>\n",
              "      <th>2802</th>\n",
              "      <td>66.448</td>\n",
              "    </tr>\n",
              "    <tr>\n",
              "      <th>2803</th>\n",
              "      <td>60.166</td>\n",
              "    </tr>\n",
              "    <tr>\n",
              "      <th>2804</th>\n",
              "      <td>58.359</td>\n",
              "    </tr>\n",
              "    <tr>\n",
              "      <th>2805</th>\n",
              "      <td>63.155</td>\n",
              "    </tr>\n",
              "    <tr>\n",
              "      <th>2806</th>\n",
              "      <td>80.902</td>\n",
              "    </tr>\n",
              "  </tbody>\n",
              "</table>\n",
              "<p>2807 rows × 1 columns</p>\n",
              "</div>"
            ],
            "text/plain": [
              "      predicted\n",
              "0        32.152\n",
              "1        44.879\n",
              "2        45.942\n",
              "3        46.432\n",
              "4        66.800\n",
              "...         ...\n",
              "2802     66.448\n",
              "2803     60.166\n",
              "2804     58.359\n",
              "2805     63.155\n",
              "2806     80.902\n",
              "\n",
              "[2807 rows x 1 columns]"
            ]
          },
          "metadata": {
            "tags": []
          },
          "execution_count": 234
        }
      ]
    },
    {
      "cell_type": "code",
      "metadata": {
        "colab": {
          "base_uri": "https://localhost:8080/",
          "height": 178
        },
        "id": "rbJXd0FjBz6n",
        "outputId": "879a3223-80be-4480-d64b-d9e5e5db9ee5"
      },
      "source": [
        "coeff_data = pd.DataFrame(lm.coef_, index=X.columns, columns=['Coefficient'])\n",
        "coeff_data"
      ],
      "execution_count": null,
      "outputs": [
        {
          "output_type": "error",
          "ename": "NameError",
          "evalue": "ignored",
          "traceback": [
            "\u001b[0;31m---------------------------------------------------------------------------\u001b[0m",
            "\u001b[0;31mNameError\u001b[0m                                 Traceback (most recent call last)",
            "\u001b[0;32m<ipython-input-4-64b5eff08c62>\u001b[0m in \u001b[0;36m<module>\u001b[0;34m()\u001b[0m\n\u001b[0;32m----> 1\u001b[0;31m \u001b[0mcoeff_data\u001b[0m \u001b[0;34m=\u001b[0m \u001b[0mpd\u001b[0m\u001b[0;34m.\u001b[0m\u001b[0mDataFrame\u001b[0m\u001b[0;34m(\u001b[0m\u001b[0mlm\u001b[0m\u001b[0;34m.\u001b[0m\u001b[0mcoef_\u001b[0m\u001b[0;34m,\u001b[0m \u001b[0mindex\u001b[0m\u001b[0;34m=\u001b[0m\u001b[0mX\u001b[0m\u001b[0;34m.\u001b[0m\u001b[0mcolumns\u001b[0m\u001b[0;34m,\u001b[0m \u001b[0mcolumns\u001b[0m\u001b[0;34m=\u001b[0m\u001b[0;34m[\u001b[0m\u001b[0;34m'Coefficient'\u001b[0m\u001b[0;34m]\u001b[0m\u001b[0;34m)\u001b[0m\u001b[0;34m\u001b[0m\u001b[0;34m\u001b[0m\u001b[0m\n\u001b[0m\u001b[1;32m      2\u001b[0m \u001b[0mcoeff_data\u001b[0m\u001b[0;34m\u001b[0m\u001b[0;34m\u001b[0m\u001b[0m\n",
            "\u001b[0;31mNameError\u001b[0m: name 'pd' is not defined"
          ]
        }
      ]
    },
    {
      "cell_type": "code",
      "metadata": {
        "id": "XD8EazpTCDbh"
      },
      "source": [
        "prediction = lm.predict(X1_test)"
      ],
      "execution_count": null,
      "outputs": []
    },
    {
      "cell_type": "code",
      "metadata": {
        "colab": {
          "base_uri": "https://localhost:8080/"
        },
        "id": "7ZF7uKk6CIYi",
        "outputId": "e9972450-3c07-40ce-98de-0bbb1bf28ec3"
      },
      "source": [
        "linear_regression_score = lm.score(X1_test, y1_test)\n",
        "linear_regression_score"
      ],
      "execution_count": null,
      "outputs": [
        {
          "output_type": "execute_result",
          "data": {
            "text/plain": [
              "0.8820773429875813"
            ]
          },
          "metadata": {
            "tags": []
          },
          "execution_count": 239
        }
      ]
    },
    {
      "cell_type": "code",
      "metadata": {
        "colab": {
          "base_uri": "https://localhost:8080/",
          "height": 431
        },
        "id": "3GvOTBDsHURF",
        "outputId": "8c9ba47b-45ae-4754-c1fb-a311b4ea442d"
      },
      "source": [
        "\n",
        "sns.distplot((y1_test-prediction), bins=70, color=\"red\")"
      ],
      "execution_count": null,
      "outputs": [
        {
          "output_type": "stream",
          "text": [
            "/usr/local/lib/python3.6/dist-packages/seaborn/distributions.py:2551: FutureWarning: `distplot` is a deprecated function and will be removed in a future version. Please adapt your code to use either `displot` (a figure-level function with similar flexibility) or `histplot` (an axes-level function for histograms).\n",
            "  warnings.warn(msg, FutureWarning)\n"
          ],
          "name": "stderr"
        },
        {
          "output_type": "execute_result",
          "data": {
            "text/plain": [
              "<matplotlib.axes._subplots.AxesSubplot at 0x7fe1b9a72c18>"
            ]
          },
          "metadata": {
            "tags": []
          },
          "execution_count": 241
        },
        {
          "output_type": "display_data",
          "data": {
            "image/png": "[encoded data removed]",
            "text/plain": [
              "<Figure size 576x396 with 1 Axes>"
            ]
          },
          "metadata": {
            "tags": []
          }
        }
      ]
    },
    {
      "cell_type": "code",
      "metadata": {
        "colab": {
          "base_uri": "https://localhost:8080/"
        },
        "id": "4o48MDP-HmZv",
        "outputId": "a85f0d96-b1b3-4d2f-e375-b715e53e3951"
      },
      "source": [
        "print('MAE:',metrics.mean_absolute_error(y1_test, prediction))\n",
        "print('MSE:',metrics.mean_squared_error(y1_test, prediction))\n",
        "print('RMSE:',np.sqrt(metrics.mean_squared_error(y1_test, prediction)))"
      ],
      "execution_count": null,
      "outputs": [
        {
          "output_type": "stream",
          "text": [
            "MAE: 4.556532696120762\n",
            "MSE: 34.932249375507226\n",
            "RMSE: 5.910351036571958\n"
          ],
          "name": "stdout"
        }
      ]
    }
  ]
}